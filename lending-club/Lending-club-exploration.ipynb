{
 "cells": [
  {
   "cell_type": "markdown",
   "metadata": {},
   "source": [
    "# Analysis of Lending club loan dataset"
   ]
  },
  {
   "cell_type": "code",
   "execution_count": 6,
   "metadata": {},
   "outputs": [],
   "source": [
    "import pandas as pd\n",
    "%matplotlib inline \n",
    "import matplotlib.pyplot as plt\n",
    "import numpy as np"
   ]
  },
  {
   "cell_type": "code",
   "execution_count": 7,
   "metadata": {
    "collapsed": true
   },
   "outputs": [],
   "source": [
    "import datetime"
   ]
  },
  {
   "cell_type": "markdown",
   "metadata": {},
   "source": [
    "#### Plotting with seaborn"
   ]
  },
  {
   "cell_type": "code",
   "execution_count": 8,
   "metadata": {},
   "outputs": [],
   "source": [
    "import seaborn as sns\n",
    "sns.set_style(\"white\")\n",
    "plt.rcParams[\"figure.figsize\"] = (12, 6)"
   ]
  },
  {
   "cell_type": "markdown",
   "metadata": {
    "heading_collapsed": true
   },
   "source": [
    "### Helper functions "
   ]
  },
  {
   "cell_type": "code",
   "execution_count": 26,
   "metadata": {
    "collapsed": true,
    "hidden": true
   },
   "outputs": [],
   "source": [
    "def get_col_info(data_col):\n",
    "    \"\"\"\n",
    "    data_col  - a column from the dataframe\n",
    "    \"\"\"\n",
    "    description = data_col.describe()\n",
    "    missing_vals = np.count_nonzero(data_col.isnull())\n",
    "    print(description)\n",
    "    print(\"Total Missing values = {0}\".format(missing_vals))\n",
    "    return None\n",
    "    \n",
    "def plot_categorical_counts(data, **kwargs):\n",
    "    \"\"\"\n",
    "    For categorical variables, get an idea of how the data is split\n",
    "    \"\"\"\n",
    "    sns.countplot(data,**kwargs)"
   ]
  },
  {
   "cell_type": "markdown",
   "metadata": {},
   "source": [
    "## Exploration of the data"
   ]
  },
  {
   "cell_type": "markdown",
   "metadata": {},
   "source": [
    "### Data dictionary "
   ]
  },
  {
   "cell_type": "code",
   "execution_count": 10,
   "metadata": {},
   "outputs": [],
   "source": [
    "df_dict = pd.read_excel('../data/LCDataDictionary.xlsx')"
   ]
  },
  {
   "cell_type": "code",
   "execution_count": 11,
   "metadata": {},
   "outputs": [
    {
     "data": {
      "text/plain": [
       "(80, 2)"
      ]
     },
     "execution_count": 11,
     "metadata": {},
     "output_type": "execute_result"
    }
   ],
   "source": [
    "df_dict.shape"
   ]
  },
  {
   "cell_type": "markdown",
   "metadata": {
    "heading_collapsed": true
   },
   "source": [
    "#### Set formatting options for pandas"
   ]
  },
  {
   "cell_type": "code",
   "execution_count": 12,
   "metadata": {
    "collapsed": true,
    "hidden": true
   },
   "outputs": [],
   "source": [
    "pd.set_option('display.max_colwidth', -1)"
   ]
  },
  {
   "cell_type": "code",
   "execution_count": 13,
   "metadata": {
    "hidden": true
   },
   "outputs": [],
   "source": [
    "pd.options.display.max_rows = 100\n",
    "pd.set_option('precision', 5)"
   ]
  },
  {
   "cell_type": "markdown",
   "metadata": {
    "heading_collapsed": true
   },
   "source": [
    "#### What's in the data?"
   ]
  },
  {
   "cell_type": "code",
   "execution_count": 14,
   "metadata": {
    "hidden": true,
    "scrolled": false
   },
   "outputs": [
    {
     "data": {
      "text/html": [
       "<div>\n",
       "<table border=\"1\" class=\"dataframe\">\n",
       "  <thead>\n",
       "    <tr style=\"text-align: right;\">\n",
       "      <th></th>\n",
       "      <th>LoanStatNew</th>\n",
       "      <th>Description</th>\n",
       "    </tr>\n",
       "  </thead>\n",
       "  <tbody>\n",
       "    <tr>\n",
       "      <th>0</th>\n",
       "      <td>addr_state</td>\n",
       "      <td>The state provided by the borrower in the loan application</td>\n",
       "    </tr>\n",
       "    <tr>\n",
       "      <th>1</th>\n",
       "      <td>annual_inc</td>\n",
       "      <td>The self-reported annual income provided by the borrower during registration.</td>\n",
       "    </tr>\n",
       "    <tr>\n",
       "      <th>2</th>\n",
       "      <td>annual_inc_joint</td>\n",
       "      <td>The combined self-reported annual income provided by the co-borrowers during registration</td>\n",
       "    </tr>\n",
       "    <tr>\n",
       "      <th>3</th>\n",
       "      <td>application_type</td>\n",
       "      <td>Indicates whether the loan is an individual application or a joint application with two co-borrowers</td>\n",
       "    </tr>\n",
       "    <tr>\n",
       "      <th>4</th>\n",
       "      <td>collection_recovery_fee</td>\n",
       "      <td>post charge off collection fee</td>\n",
       "    </tr>\n",
       "    <tr>\n",
       "      <th>5</th>\n",
       "      <td>collections_12_mths_ex_med</td>\n",
       "      <td>Number of collections in 12 months excluding medical collections</td>\n",
       "    </tr>\n",
       "    <tr>\n",
       "      <th>6</th>\n",
       "      <td>delinq_2yrs</td>\n",
       "      <td>The number of 30+ days past-due incidences of delinquency in the borrower's credit file for the past 2 years</td>\n",
       "    </tr>\n",
       "    <tr>\n",
       "      <th>7</th>\n",
       "      <td>desc</td>\n",
       "      <td>Loan description provided by the borrower</td>\n",
       "    </tr>\n",
       "    <tr>\n",
       "      <th>8</th>\n",
       "      <td>dti</td>\n",
       "      <td>A ratio calculated using the borrower’s total monthly debt payments on the total debt obligations, excluding mortgage and the requested LC loan, divided by the borrower’s self-reported monthly income.</td>\n",
       "    </tr>\n",
       "    <tr>\n",
       "      <th>9</th>\n",
       "      <td>dti_joint</td>\n",
       "      <td>A ratio calculated using the co-borrowers' total monthly payments on the total debt obligations, excluding mortgages and the requested LC loan, divided by the co-borrowers' combined self-reported monthly income</td>\n",
       "    </tr>\n",
       "    <tr>\n",
       "      <th>10</th>\n",
       "      <td>earliest_cr_line</td>\n",
       "      <td>The month the borrower's earliest reported credit line was opened</td>\n",
       "    </tr>\n",
       "    <tr>\n",
       "      <th>11</th>\n",
       "      <td>emp_length</td>\n",
       "      <td>Employment length in years. Possible values are between 0 and 10 where 0 means less than one year and 10 means ten or more years.</td>\n",
       "    </tr>\n",
       "    <tr>\n",
       "      <th>12</th>\n",
       "      <td>emp_title</td>\n",
       "      <td>The job title supplied by the Borrower when applying for the loan.*</td>\n",
       "    </tr>\n",
       "    <tr>\n",
       "      <th>13</th>\n",
       "      <td>fico_range_high</td>\n",
       "      <td>The upper boundary range the borrower’s FICO at loan origination belongs to.</td>\n",
       "    </tr>\n",
       "    <tr>\n",
       "      <th>14</th>\n",
       "      <td>fico_range_low</td>\n",
       "      <td>The lower boundary range the borrower’s FICO at loan origination belongs to.</td>\n",
       "    </tr>\n",
       "    <tr>\n",
       "      <th>15</th>\n",
       "      <td>funded_amnt</td>\n",
       "      <td>The total amount committed to that loan at that point in time.</td>\n",
       "    </tr>\n",
       "    <tr>\n",
       "      <th>16</th>\n",
       "      <td>funded_amnt_inv</td>\n",
       "      <td>The total amount committed by investors for that loan at that point in time.</td>\n",
       "    </tr>\n",
       "    <tr>\n",
       "      <th>17</th>\n",
       "      <td>grade</td>\n",
       "      <td>LC assigned loan grade</td>\n",
       "    </tr>\n",
       "    <tr>\n",
       "      <th>18</th>\n",
       "      <td>home_ownership</td>\n",
       "      <td>The home ownership status provided by the borrower during registration. Our values are: RENT, OWN, MORTGAGE, OTHER.</td>\n",
       "    </tr>\n",
       "    <tr>\n",
       "      <th>19</th>\n",
       "      <td>id</td>\n",
       "      <td>A unique LC assigned ID for the loan listing.</td>\n",
       "    </tr>\n",
       "    <tr>\n",
       "      <th>20</th>\n",
       "      <td>initial_list_status</td>\n",
       "      <td>The initial listing status of the loan. Possible values are – W, F</td>\n",
       "    </tr>\n",
       "    <tr>\n",
       "      <th>21</th>\n",
       "      <td>inq_last_6mths</td>\n",
       "      <td>The number of inquiries in past 6 months (excluding auto and mortgage inquiries)</td>\n",
       "    </tr>\n",
       "    <tr>\n",
       "      <th>22</th>\n",
       "      <td>installment</td>\n",
       "      <td>The monthly payment owed by the borrower if the loan originates.</td>\n",
       "    </tr>\n",
       "    <tr>\n",
       "      <th>23</th>\n",
       "      <td>int_rate</td>\n",
       "      <td>Interest Rate on the loan</td>\n",
       "    </tr>\n",
       "    <tr>\n",
       "      <th>24</th>\n",
       "      <td>is_inc_v</td>\n",
       "      <td>Indicates if income was verified by LC, not verified, or if the income source was verified</td>\n",
       "    </tr>\n",
       "    <tr>\n",
       "      <th>25</th>\n",
       "      <td>issue_d</td>\n",
       "      <td>The month which the loan was funded</td>\n",
       "    </tr>\n",
       "    <tr>\n",
       "      <th>26</th>\n",
       "      <td>last_credit_pull_d</td>\n",
       "      <td>The most recent month LC pulled credit for this loan</td>\n",
       "    </tr>\n",
       "    <tr>\n",
       "      <th>27</th>\n",
       "      <td>last_fico_range_high</td>\n",
       "      <td>The upper boundary range the borrower’s last FICO pulled belongs to.</td>\n",
       "    </tr>\n",
       "    <tr>\n",
       "      <th>28</th>\n",
       "      <td>last_fico_range_low</td>\n",
       "      <td>The lower boundary range the borrower’s last FICO pulled belongs to.</td>\n",
       "    </tr>\n",
       "    <tr>\n",
       "      <th>29</th>\n",
       "      <td>last_pymnt_amnt</td>\n",
       "      <td>Last total payment amount received</td>\n",
       "    </tr>\n",
       "    <tr>\n",
       "      <th>30</th>\n",
       "      <td>last_pymnt_d</td>\n",
       "      <td>Last month payment was received</td>\n",
       "    </tr>\n",
       "    <tr>\n",
       "      <th>31</th>\n",
       "      <td>loan_amnt</td>\n",
       "      <td>The listed amount of the loan applied for by the borrower. If at some point in time, the credit department reduces the loan amount, then it will be reflected in this value.</td>\n",
       "    </tr>\n",
       "    <tr>\n",
       "      <th>32</th>\n",
       "      <td>loan_status</td>\n",
       "      <td>Current status of the loan</td>\n",
       "    </tr>\n",
       "    <tr>\n",
       "      <th>33</th>\n",
       "      <td>member_id</td>\n",
       "      <td>A unique LC assigned Id for the borrower member.</td>\n",
       "    </tr>\n",
       "    <tr>\n",
       "      <th>34</th>\n",
       "      <td>mths_since_last_delinq</td>\n",
       "      <td>The number of months since the borrower's last delinquency.</td>\n",
       "    </tr>\n",
       "    <tr>\n",
       "      <th>35</th>\n",
       "      <td>mths_since_last_major_derog</td>\n",
       "      <td>Months since most recent 90-day or worse rating</td>\n",
       "    </tr>\n",
       "    <tr>\n",
       "      <th>36</th>\n",
       "      <td>mths_since_last_record</td>\n",
       "      <td>The number of months since the last public record.</td>\n",
       "    </tr>\n",
       "    <tr>\n",
       "      <th>37</th>\n",
       "      <td>next_pymnt_d</td>\n",
       "      <td>Next scheduled payment date</td>\n",
       "    </tr>\n",
       "    <tr>\n",
       "      <th>38</th>\n",
       "      <td>open_acc</td>\n",
       "      <td>The number of open credit lines in the borrower's credit file.</td>\n",
       "    </tr>\n",
       "    <tr>\n",
       "      <th>39</th>\n",
       "      <td>out_prncp</td>\n",
       "      <td>Remaining outstanding principal for total amount funded</td>\n",
       "    </tr>\n",
       "    <tr>\n",
       "      <th>40</th>\n",
       "      <td>out_prncp_inv</td>\n",
       "      <td>Remaining outstanding principal for portion of total amount funded by investors</td>\n",
       "    </tr>\n",
       "    <tr>\n",
       "      <th>41</th>\n",
       "      <td>policy_code</td>\n",
       "      <td>publicly available policy_code=1\\nnew products not publicly available policy_code=2</td>\n",
       "    </tr>\n",
       "    <tr>\n",
       "      <th>42</th>\n",
       "      <td>pub_rec</td>\n",
       "      <td>Number of derogatory public records</td>\n",
       "    </tr>\n",
       "    <tr>\n",
       "      <th>43</th>\n",
       "      <td>purpose</td>\n",
       "      <td>A category provided by the borrower for the loan request.</td>\n",
       "    </tr>\n",
       "    <tr>\n",
       "      <th>44</th>\n",
       "      <td>pymnt_plan</td>\n",
       "      <td>Indicates if a payment plan has been put in place for the loan</td>\n",
       "    </tr>\n",
       "    <tr>\n",
       "      <th>45</th>\n",
       "      <td>recoveries</td>\n",
       "      <td>post charge off gross recovery</td>\n",
       "    </tr>\n",
       "    <tr>\n",
       "      <th>46</th>\n",
       "      <td>revol_bal</td>\n",
       "      <td>Total credit revolving balance</td>\n",
       "    </tr>\n",
       "    <tr>\n",
       "      <th>47</th>\n",
       "      <td>revol_util</td>\n",
       "      <td>Revolving line utilization rate, or the amount of credit the borrower is using relative to all available revolving credit.</td>\n",
       "    </tr>\n",
       "    <tr>\n",
       "      <th>48</th>\n",
       "      <td>sub_grade</td>\n",
       "      <td>LC assigned loan subgrade</td>\n",
       "    </tr>\n",
       "    <tr>\n",
       "      <th>49</th>\n",
       "      <td>term</td>\n",
       "      <td>The number of payments on the loan. Values are in months and can be either 36 or 60.</td>\n",
       "    </tr>\n",
       "    <tr>\n",
       "      <th>50</th>\n",
       "      <td>title</td>\n",
       "      <td>The loan title provided by the borrower</td>\n",
       "    </tr>\n",
       "    <tr>\n",
       "      <th>51</th>\n",
       "      <td>total_acc</td>\n",
       "      <td>The total number of credit lines currently in the borrower's credit file</td>\n",
       "    </tr>\n",
       "    <tr>\n",
       "      <th>52</th>\n",
       "      <td>total_pymnt</td>\n",
       "      <td>Payments received to date for total amount funded</td>\n",
       "    </tr>\n",
       "    <tr>\n",
       "      <th>53</th>\n",
       "      <td>total_pymnt_inv</td>\n",
       "      <td>Payments received to date for portion of total amount funded by investors</td>\n",
       "    </tr>\n",
       "    <tr>\n",
       "      <th>54</th>\n",
       "      <td>total_rec_int</td>\n",
       "      <td>Interest received to date</td>\n",
       "    </tr>\n",
       "    <tr>\n",
       "      <th>55</th>\n",
       "      <td>total_rec_late_fee</td>\n",
       "      <td>Late fees received to date</td>\n",
       "    </tr>\n",
       "    <tr>\n",
       "      <th>56</th>\n",
       "      <td>total_rec_prncp</td>\n",
       "      <td>Principal received to date</td>\n",
       "    </tr>\n",
       "    <tr>\n",
       "      <th>57</th>\n",
       "      <td>url</td>\n",
       "      <td>URL for the LC page with listing data.</td>\n",
       "    </tr>\n",
       "    <tr>\n",
       "      <th>58</th>\n",
       "      <td>verified_status_joint</td>\n",
       "      <td>Indicates if the co-borrowers' joint income was verified by LC, not verified, or if the income source was verified</td>\n",
       "    </tr>\n",
       "    <tr>\n",
       "      <th>59</th>\n",
       "      <td>zip_code</td>\n",
       "      <td>The first 3 numbers of the zip code provided by the borrower in the loan application.</td>\n",
       "    </tr>\n",
       "    <tr>\n",
       "      <th>60</th>\n",
       "      <td>open_acc_6m</td>\n",
       "      <td>Number of open trades in last 6 months</td>\n",
       "    </tr>\n",
       "    <tr>\n",
       "      <th>61</th>\n",
       "      <td>open_il_6m</td>\n",
       "      <td>Number of currently active installment trades</td>\n",
       "    </tr>\n",
       "    <tr>\n",
       "      <th>62</th>\n",
       "      <td>open_il_12m</td>\n",
       "      <td>Number of installment accounts opened in past 12 months</td>\n",
       "    </tr>\n",
       "    <tr>\n",
       "      <th>63</th>\n",
       "      <td>open_il_24m</td>\n",
       "      <td>Number of installment accounts opened in past 24 months</td>\n",
       "    </tr>\n",
       "    <tr>\n",
       "      <th>64</th>\n",
       "      <td>mths_since_rcnt_il</td>\n",
       "      <td>Months since most recent installment accounts opened</td>\n",
       "    </tr>\n",
       "    <tr>\n",
       "      <th>65</th>\n",
       "      <td>total_bal_il</td>\n",
       "      <td>Total current balance of all installment accounts</td>\n",
       "    </tr>\n",
       "    <tr>\n",
       "      <th>66</th>\n",
       "      <td>il_util</td>\n",
       "      <td>Ratio of total current balance to high credit/credit limit on all install acct</td>\n",
       "    </tr>\n",
       "    <tr>\n",
       "      <th>67</th>\n",
       "      <td>open_rv_12m</td>\n",
       "      <td>Number of revolving trades opened in past 12 months</td>\n",
       "    </tr>\n",
       "    <tr>\n",
       "      <th>68</th>\n",
       "      <td>open_rv_24m</td>\n",
       "      <td>Number of revolving trades opened in past 24 months</td>\n",
       "    </tr>\n",
       "    <tr>\n",
       "      <th>69</th>\n",
       "      <td>max_bal_bc</td>\n",
       "      <td>Maximum current balance owed on all revolving accounts</td>\n",
       "    </tr>\n",
       "    <tr>\n",
       "      <th>70</th>\n",
       "      <td>all_util</td>\n",
       "      <td>Balance to credit limit on all trades</td>\n",
       "    </tr>\n",
       "    <tr>\n",
       "      <th>71</th>\n",
       "      <td>total_rev_hi_lim</td>\n",
       "      <td>Total revolving high credit/credit limit</td>\n",
       "    </tr>\n",
       "    <tr>\n",
       "      <th>72</th>\n",
       "      <td>inq_fi</td>\n",
       "      <td>Number of personal finance inquiries</td>\n",
       "    </tr>\n",
       "    <tr>\n",
       "      <th>73</th>\n",
       "      <td>total_cu_tl</td>\n",
       "      <td>Number of finance trades</td>\n",
       "    </tr>\n",
       "    <tr>\n",
       "      <th>74</th>\n",
       "      <td>inq_last_12m</td>\n",
       "      <td>Number of credit inquiries in past 12 months</td>\n",
       "    </tr>\n",
       "    <tr>\n",
       "      <th>75</th>\n",
       "      <td>acc_now_delinq</td>\n",
       "      <td>The number of accounts on which the borrower is now delinquent.</td>\n",
       "    </tr>\n",
       "    <tr>\n",
       "      <th>76</th>\n",
       "      <td>tot_coll_amt</td>\n",
       "      <td>Total collection amounts ever owed</td>\n",
       "    </tr>\n",
       "    <tr>\n",
       "      <th>77</th>\n",
       "      <td>tot_cur_bal</td>\n",
       "      <td>Total current balance of all accounts</td>\n",
       "    </tr>\n",
       "    <tr>\n",
       "      <th>78</th>\n",
       "      <td>NaN</td>\n",
       "      <td>NaN</td>\n",
       "    </tr>\n",
       "    <tr>\n",
       "      <th>79</th>\n",
       "      <td>NaN</td>\n",
       "      <td>* Employer Title replaces Employer Name for all loans listed after 9/23/2013</td>\n",
       "    </tr>\n",
       "  </tbody>\n",
       "</table>\n",
       "</div>"
      ],
      "text/plain": [
       "                    LoanStatNew  \\\n",
       "0   addr_state                    \n",
       "1   annual_inc                    \n",
       "2   annual_inc_joint              \n",
       "3   application_type              \n",
       "4   collection_recovery_fee       \n",
       "5   collections_12_mths_ex_med    \n",
       "6   delinq_2yrs                   \n",
       "7   desc                          \n",
       "8   dti                           \n",
       "9   dti_joint                     \n",
       "10  earliest_cr_line              \n",
       "11  emp_length                    \n",
       "12  emp_title                     \n",
       "13  fico_range_high               \n",
       "14  fico_range_low                \n",
       "15  funded_amnt                   \n",
       "16  funded_amnt_inv               \n",
       "17  grade                         \n",
       "18  home_ownership                \n",
       "19  id                            \n",
       "20  initial_list_status           \n",
       "21  inq_last_6mths                \n",
       "22  installment                   \n",
       "23  int_rate                      \n",
       "24  is_inc_v                      \n",
       "25  issue_d                       \n",
       "26  last_credit_pull_d            \n",
       "27  last_fico_range_high          \n",
       "28  last_fico_range_low           \n",
       "29  last_pymnt_amnt               \n",
       "30  last_pymnt_d                  \n",
       "31  loan_amnt                     \n",
       "32  loan_status                   \n",
       "33  member_id                     \n",
       "34  mths_since_last_delinq        \n",
       "35  mths_since_last_major_derog   \n",
       "36  mths_since_last_record        \n",
       "37  next_pymnt_d                  \n",
       "38  open_acc                      \n",
       "39  out_prncp                     \n",
       "40  out_prncp_inv                 \n",
       "41  policy_code                   \n",
       "42  pub_rec                       \n",
       "43  purpose                       \n",
       "44  pymnt_plan                    \n",
       "45  recoveries                    \n",
       "46  revol_bal                     \n",
       "47  revol_util                    \n",
       "48  sub_grade                     \n",
       "49  term                          \n",
       "50  title                         \n",
       "51  total_acc                     \n",
       "52  total_pymnt                   \n",
       "53  total_pymnt_inv               \n",
       "54  total_rec_int                 \n",
       "55  total_rec_late_fee            \n",
       "56  total_rec_prncp               \n",
       "57  url                           \n",
       "58  verified_status_joint         \n",
       "59  zip_code                      \n",
       "60  open_acc_6m                   \n",
       "61  open_il_6m                    \n",
       "62  open_il_12m                   \n",
       "63  open_il_24m                   \n",
       "64  mths_since_rcnt_il            \n",
       "65  total_bal_il                  \n",
       "66  il_util                       \n",
       "67  open_rv_12m                   \n",
       "68  open_rv_24m                   \n",
       "69  max_bal_bc                    \n",
       "70  all_util                      \n",
       "71  total_rev_hi_lim              \n",
       "72  inq_fi                        \n",
       "73  total_cu_tl                   \n",
       "74  inq_last_12m                  \n",
       "75  acc_now_delinq                \n",
       "76  tot_coll_amt                  \n",
       "77  tot_cur_bal                   \n",
       "78  NaN                           \n",
       "79  NaN                           \n",
       "\n",
       "                                                                                                                                                                                                           Description  \n",
       "0   The state provided by the borrower in the loan application                                                                                                                                                          \n",
       "1   The self-reported annual income provided by the borrower during registration.                                                                                                                                       \n",
       "2   The combined self-reported annual income provided by the co-borrowers during registration                                                                                                                           \n",
       "3   Indicates whether the loan is an individual application or a joint application with two co-borrowers                                                                                                                \n",
       "4   post charge off collection fee                                                                                                                                                                                      \n",
       "5   Number of collections in 12 months excluding medical collections                                                                                                                                                    \n",
       "6   The number of 30+ days past-due incidences of delinquency in the borrower's credit file for the past 2 years                                                                                                        \n",
       "7   Loan description provided by the borrower                                                                                                                                                                           \n",
       "8   A ratio calculated using the borrower’s total monthly debt payments on the total debt obligations, excluding mortgage and the requested LC loan, divided by the borrower’s self-reported monthly income.            \n",
       "9   A ratio calculated using the co-borrowers' total monthly payments on the total debt obligations, excluding mortgages and the requested LC loan, divided by the co-borrowers' combined self-reported monthly income  \n",
       "10  The month the borrower's earliest reported credit line was opened                                                                                                                                                   \n",
       "11  Employment length in years. Possible values are between 0 and 10 where 0 means less than one year and 10 means ten or more years.                                                                                   \n",
       "12  The job title supplied by the Borrower when applying for the loan.*                                                                                                                                                 \n",
       "13  The upper boundary range the borrower’s FICO at loan origination belongs to.                                                                                                                                        \n",
       "14  The lower boundary range the borrower’s FICO at loan origination belongs to.                                                                                                                                        \n",
       "15  The total amount committed to that loan at that point in time.                                                                                                                                                      \n",
       "16  The total amount committed by investors for that loan at that point in time.                                                                                                                                        \n",
       "17  LC assigned loan grade                                                                                                                                                                                              \n",
       "18  The home ownership status provided by the borrower during registration. Our values are: RENT, OWN, MORTGAGE, OTHER.                                                                                                 \n",
       "19  A unique LC assigned ID for the loan listing.                                                                                                                                                                       \n",
       "20  The initial listing status of the loan. Possible values are – W, F                                                                                                                                                  \n",
       "21  The number of inquiries in past 6 months (excluding auto and mortgage inquiries)                                                                                                                                    \n",
       "22  The monthly payment owed by the borrower if the loan originates.                                                                                                                                                    \n",
       "23  Interest Rate on the loan                                                                                                                                                                                           \n",
       "24  Indicates if income was verified by LC, not verified, or if the income source was verified                                                                                                                          \n",
       "25  The month which the loan was funded                                                                                                                                                                                 \n",
       "26  The most recent month LC pulled credit for this loan                                                                                                                                                                \n",
       "27  The upper boundary range the borrower’s last FICO pulled belongs to.                                                                                                                                                \n",
       "28  The lower boundary range the borrower’s last FICO pulled belongs to.                                                                                                                                                \n",
       "29  Last total payment amount received                                                                                                                                                                                  \n",
       "30  Last month payment was received                                                                                                                                                                                     \n",
       "31  The listed amount of the loan applied for by the borrower. If at some point in time, the credit department reduces the loan amount, then it will be reflected in this value.                                        \n",
       "32  Current status of the loan                                                                                                                                                                                          \n",
       "33  A unique LC assigned Id for the borrower member.                                                                                                                                                                    \n",
       "34  The number of months since the borrower's last delinquency.                                                                                                                                                         \n",
       "35  Months since most recent 90-day or worse rating                                                                                                                                                                     \n",
       "36  The number of months since the last public record.                                                                                                                                                                  \n",
       "37  Next scheduled payment date                                                                                                                                                                                         \n",
       "38  The number of open credit lines in the borrower's credit file.                                                                                                                                                      \n",
       "39  Remaining outstanding principal for total amount funded                                                                                                                                                             \n",
       "40  Remaining outstanding principal for portion of total amount funded by investors                                                                                                                                     \n",
       "41  publicly available policy_code=1\\nnew products not publicly available policy_code=2                                                                                                                                 \n",
       "42  Number of derogatory public records                                                                                                                                                                                 \n",
       "43  A category provided by the borrower for the loan request.                                                                                                                                                           \n",
       "44  Indicates if a payment plan has been put in place for the loan                                                                                                                                                      \n",
       "45  post charge off gross recovery                                                                                                                                                                                      \n",
       "46  Total credit revolving balance                                                                                                                                                                                      \n",
       "47  Revolving line utilization rate, or the amount of credit the borrower is using relative to all available revolving credit.                                                                                          \n",
       "48  LC assigned loan subgrade                                                                                                                                                                                           \n",
       "49  The number of payments on the loan. Values are in months and can be either 36 or 60.                                                                                                                                \n",
       "50  The loan title provided by the borrower                                                                                                                                                                             \n",
       "51  The total number of credit lines currently in the borrower's credit file                                                                                                                                            \n",
       "52  Payments received to date for total amount funded                                                                                                                                                                   \n",
       "53  Payments received to date for portion of total amount funded by investors                                                                                                                                           \n",
       "54  Interest received to date                                                                                                                                                                                           \n",
       "55  Late fees received to date                                                                                                                                                                                          \n",
       "56  Principal received to date                                                                                                                                                                                          \n",
       "57  URL for the LC page with listing data.                                                                                                                                                                              \n",
       "58  Indicates if the co-borrowers' joint income was verified by LC, not verified, or if the income source was verified                                                                                                  \n",
       "59  The first 3 numbers of the zip code provided by the borrower in the loan application.                                                                                                                               \n",
       "60  Number of open trades in last 6 months                                                                                                                                                                              \n",
       "61  Number of currently active installment trades                                                                                                                                                                       \n",
       "62  Number of installment accounts opened in past 12 months                                                                                                                                                             \n",
       "63  Number of installment accounts opened in past 24 months                                                                                                                                                             \n",
       "64  Months since most recent installment accounts opened                                                                                                                                                                \n",
       "65  Total current balance of all installment accounts                                                                                                                                                                   \n",
       "66  Ratio of total current balance to high credit/credit limit on all install acct                                                                                                                                      \n",
       "67  Number of revolving trades opened in past 12 months                                                                                                                                                                 \n",
       "68  Number of revolving trades opened in past 24 months                                                                                                                                                                 \n",
       "69  Maximum current balance owed on all revolving accounts                                                                                                                                                              \n",
       "70  Balance to credit limit on all trades                                                                                                                                                                               \n",
       "71  Total revolving high credit/credit limit                                                                                                                                                                            \n",
       "72  Number of personal finance inquiries                                                                                                                                                                                \n",
       "73  Number of finance trades                                                                                                                                                                                            \n",
       "74  Number of credit inquiries in past 12 months                                                                                                                                                                        \n",
       "75  The number of accounts on which the borrower is now delinquent.                                                                                                                                                     \n",
       "76  Total collection amounts ever owed                                                                                                                                                                                  \n",
       "77  Total current balance of all accounts                                                                                                                                                                               \n",
       "78  NaN                                                                                                                                                                                                                 \n",
       "79  * Employer Title replaces Employer Name for all loans listed after 9/23/2013                                                                                                                                        "
      ]
     },
     "execution_count": 14,
     "metadata": {},
     "output_type": "execute_result"
    }
   ],
   "source": [
    "df_dict"
   ]
  },
  {
   "cell_type": "markdown",
   "metadata": {},
   "source": [
    "#### Thoughts"
   ]
  },
  {
   "cell_type": "markdown",
   "metadata": {},
   "source": [
    "If I am trying to predict interest rate that the loan will be offered - then I need to be careful with only including the data that would be there at the acquisition stage. There should be no data that is date after the issue_d at the very least\n",
    "\n"
   ]
  },
  {
   "cell_type": "markdown",
   "metadata": {},
   "source": [
    "### Exploring the data"
   ]
  },
  {
   "cell_type": "code",
   "execution_count": 15,
   "metadata": {},
   "outputs": [],
   "source": [
    "df_loan = pd.read_csv('../data/loan.csv',low_memory=False)"
   ]
  },
  {
   "cell_type": "code",
   "execution_count": 16,
   "metadata": {},
   "outputs": [
    {
     "data": {
      "text/plain": [
       "(887379, 74)"
      ]
     },
     "execution_count": 16,
     "metadata": {},
     "output_type": "execute_result"
    }
   ],
   "source": [
    "df_loan.shape"
   ]
  },
  {
   "cell_type": "code",
   "execution_count": 55,
   "metadata": {},
   "outputs": [
    {
     "data": {
      "text/plain": [
       "Index(['acc_now_delinq', 'addr_state', 'all_util', 'annual_inc',\n",
       "       'annual_inc_joint', 'application_type', 'collection_recovery_fee',\n",
       "       'collections_12_mths_ex_med', 'delinq_2yrs', 'desc', 'dti', 'dti_joint',\n",
       "       'earliest_cr_line', 'emp_length', 'emp_title', 'funded_amnt',\n",
       "       'funded_amnt_inv', 'grade', 'home_ownership', 'id', 'il_util',\n",
       "       'initial_list_status', 'inq_fi', 'inq_last_12m', 'inq_last_6mths',\n",
       "       'installment', 'int_rate', 'issue_d', 'last_credit_pull_d',\n",
       "       'last_pymnt_amnt', 'last_pymnt_d', 'loan_amnt', 'loan_status',\n",
       "       'max_bal_bc', 'member_id', 'mths_since_last_delinq',\n",
       "       'mths_since_last_major_derog', 'mths_since_last_record',\n",
       "       'mths_since_rcnt_il', 'next_pymnt_d', 'open_acc', 'open_acc_6m',\n",
       "       'open_il_12m', 'open_il_24m', 'open_il_6m', 'open_rv_12m',\n",
       "       'open_rv_24m', 'out_prncp', 'out_prncp_inv', 'policy_code', 'pub_rec',\n",
       "       'purpose', 'pymnt_plan', 'recoveries', 'revol_bal', 'revol_util',\n",
       "       'sub_grade', 'term', 'title', 'tot_coll_amt', 'tot_cur_bal',\n",
       "       'total_acc', 'total_bal_il', 'total_cu_tl', 'total_pymnt',\n",
       "       'total_pymnt_inv', 'total_rec_int', 'total_rec_late_fee',\n",
       "       'total_rec_prncp', 'total_rev_hi_lim', 'url', 'verification_status',\n",
       "       'verified_status_joint', 'zip_code'],\n",
       "      dtype='object')"
      ]
     },
     "execution_count": 55,
     "metadata": {},
     "output_type": "execute_result"
    }
   ],
   "source": [
    "df_loan.columns.sort_values()"
   ]
  },
  {
   "cell_type": "code",
   "execution_count": 18,
   "metadata": {
    "scrolled": true
   },
   "outputs": [
    {
     "name": "stdout",
     "output_type": "stream",
     "text": [
      "<class 'pandas.core.frame.DataFrame'>\n",
      "RangeIndex: 887379 entries, 0 to 887378\n",
      "Data columns (total 74 columns):\n",
      "id                             887379 non-null int64\n",
      "member_id                      887379 non-null int64\n",
      "loan_amnt                      887379 non-null float64\n",
      "funded_amnt                    887379 non-null float64\n",
      "funded_amnt_inv                887379 non-null float64\n",
      "term                           887379 non-null object\n",
      "int_rate                       887379 non-null float64\n",
      "installment                    887379 non-null float64\n",
      "grade                          887379 non-null object\n",
      "sub_grade                      887379 non-null object\n",
      "emp_title                      835922 non-null object\n",
      "emp_length                     887379 non-null object\n",
      "home_ownership                 887379 non-null object\n",
      "annual_inc                     887375 non-null float64\n",
      "verification_status            887379 non-null object\n",
      "issue_d                        887379 non-null object\n",
      "loan_status                    887379 non-null object\n",
      "pymnt_plan                     887379 non-null object\n",
      "url                            887379 non-null object\n",
      "desc                           126029 non-null object\n",
      "purpose                        887379 non-null object\n",
      "title                          887228 non-null object\n",
      "zip_code                       887379 non-null object\n",
      "addr_state                     887379 non-null object\n",
      "dti                            887379 non-null float64\n",
      "delinq_2yrs                    887350 non-null float64\n",
      "earliest_cr_line               887350 non-null object\n",
      "inq_last_6mths                 887350 non-null float64\n",
      "mths_since_last_delinq         433067 non-null float64\n",
      "mths_since_last_record         137053 non-null float64\n",
      "open_acc                       887350 non-null float64\n",
      "pub_rec                        887350 non-null float64\n",
      "revol_bal                      887379 non-null float64\n",
      "revol_util                     886877 non-null float64\n",
      "total_acc                      887350 non-null float64\n",
      "initial_list_status            887379 non-null object\n",
      "out_prncp                      887379 non-null float64\n",
      "out_prncp_inv                  887379 non-null float64\n",
      "total_pymnt                    887379 non-null float64\n",
      "total_pymnt_inv                887379 non-null float64\n",
      "total_rec_prncp                887379 non-null float64\n",
      "total_rec_int                  887379 non-null float64\n",
      "total_rec_late_fee             887379 non-null float64\n",
      "recoveries                     887379 non-null float64\n",
      "collection_recovery_fee        887379 non-null float64\n",
      "last_pymnt_d                   869720 non-null object\n",
      "last_pymnt_amnt                887379 non-null float64\n",
      "next_pymnt_d                   634408 non-null object\n",
      "last_credit_pull_d             887326 non-null object\n",
      "collections_12_mths_ex_med     887234 non-null float64\n",
      "mths_since_last_major_derog    221703 non-null float64\n",
      "policy_code                    887379 non-null float64\n",
      "application_type               887379 non-null object\n",
      "annual_inc_joint               511 non-null float64\n",
      "dti_joint                      509 non-null float64\n",
      "verification_status_joint      511 non-null object\n",
      "acc_now_delinq                 887350 non-null float64\n",
      "tot_coll_amt                   817103 non-null float64\n",
      "tot_cur_bal                    817103 non-null float64\n",
      "open_acc_6m                    21372 non-null float64\n",
      "open_il_6m                     21372 non-null float64\n",
      "open_il_12m                    21372 non-null float64\n",
      "open_il_24m                    21372 non-null float64\n",
      "mths_since_rcnt_il             20810 non-null float64\n",
      "total_bal_il                   21372 non-null float64\n",
      "il_util                        18617 non-null float64\n",
      "open_rv_12m                    21372 non-null float64\n",
      "open_rv_24m                    21372 non-null float64\n",
      "max_bal_bc                     21372 non-null float64\n",
      "all_util                       21372 non-null float64\n",
      "total_rev_hi_lim               817103 non-null float64\n",
      "inq_fi                         21372 non-null float64\n",
      "total_cu_tl                    21372 non-null float64\n",
      "inq_last_12m                   21372 non-null float64\n",
      "dtypes: float64(49), int64(2), object(23)\n",
      "memory usage: 501.0+ MB\n"
     ]
    }
   ],
   "source": [
    "df_loan.info()"
   ]
  },
  {
   "cell_type": "markdown",
   "metadata": {},
   "source": [
    "Verified status joint is the same as verification status joint - let's rename this field"
   ]
  },
  {
   "cell_type": "code",
   "execution_count": 19,
   "metadata": {
    "collapsed": true
   },
   "outputs": [],
   "source": [
    "df_loan.rename(index=str, columns={\"verification_status_joint\":\"verified_status_joint\",\n",
    "                                   \"total_rev_hi_lim\":\"total_rev_hi_lim\"},inplace=True)"
   ]
  },
  {
   "cell_type": "markdown",
   "metadata": {},
   "source": [
    "### Sample down to 30000 rows"
   ]
  },
  {
   "cell_type": "code",
   "execution_count": 57,
   "metadata": {
    "collapsed": true
   },
   "outputs": [],
   "source": [
    "sample_loan_df = df_loan.sample(n=30000)"
   ]
  },
  {
   "cell_type": "code",
   "execution_count": 58,
   "metadata": {},
   "outputs": [
    {
     "data": {
      "text/plain": [
       "(30000, 74)"
      ]
     },
     "execution_count": 58,
     "metadata": {},
     "output_type": "execute_result"
    }
   ],
   "source": [
    "sample_loan_df.shape"
   ]
  },
  {
   "cell_type": "markdown",
   "metadata": {},
   "source": [
    "#### Mismatch between data dictionary and loan file features?"
   ]
  },
  {
   "cell_type": "code",
   "execution_count": 61,
   "metadata": {},
   "outputs": [
    {
     "data": {
      "text/html": [
       "<div>\n",
       "<table border=\"1\" class=\"dataframe\">\n",
       "  <thead>\n",
       "    <tr style=\"text-align: right;\">\n",
       "      <th></th>\n",
       "      <th>LoanStatNew</th>\n",
       "      <th>Description</th>\n",
       "    </tr>\n",
       "  </thead>\n",
       "  <tbody>\n",
       "    <tr>\n",
       "      <th>13</th>\n",
       "      <td>fico_range_high</td>\n",
       "      <td>The upper boundary range the borrower’s FICO at loan origination belongs to.</td>\n",
       "    </tr>\n",
       "    <tr>\n",
       "      <th>14</th>\n",
       "      <td>fico_range_low</td>\n",
       "      <td>The lower boundary range the borrower’s FICO at loan origination belongs to.</td>\n",
       "    </tr>\n",
       "    <tr>\n",
       "      <th>24</th>\n",
       "      <td>is_inc_v</td>\n",
       "      <td>Indicates if income was verified by LC, not verified, or if the income source was verified</td>\n",
       "    </tr>\n",
       "    <tr>\n",
       "      <th>27</th>\n",
       "      <td>last_fico_range_high</td>\n",
       "      <td>The upper boundary range the borrower’s last FICO pulled belongs to.</td>\n",
       "    </tr>\n",
       "    <tr>\n",
       "      <th>28</th>\n",
       "      <td>last_fico_range_low</td>\n",
       "      <td>The lower boundary range the borrower’s last FICO pulled belongs to.</td>\n",
       "    </tr>\n",
       "    <tr>\n",
       "      <th>71</th>\n",
       "      <td>total_rev_hi_lim</td>\n",
       "      <td>Total revolving high credit/credit limit</td>\n",
       "    </tr>\n",
       "    <tr>\n",
       "      <th>78</th>\n",
       "      <td>NaN</td>\n",
       "      <td>NaN</td>\n",
       "    </tr>\n",
       "    <tr>\n",
       "      <th>79</th>\n",
       "      <td>NaN</td>\n",
       "      <td>* Employer Title replaces Employer Name for all loans listed after 9/23/2013</td>\n",
       "    </tr>\n",
       "  </tbody>\n",
       "</table>\n",
       "</div>"
      ],
      "text/plain": [
       "             LoanStatNew  \\\n",
       "13  fico_range_high        \n",
       "14  fico_range_low         \n",
       "24  is_inc_v               \n",
       "27  last_fico_range_high   \n",
       "28  last_fico_range_low    \n",
       "71  total_rev_hi_lim       \n",
       "78  NaN                    \n",
       "79  NaN                    \n",
       "\n",
       "                                                                                   Description  \n",
       "13  The upper boundary range the borrower’s FICO at loan origination belongs to.                \n",
       "14  The lower boundary range the borrower’s FICO at loan origination belongs to.                \n",
       "24  Indicates if income was verified by LC, not verified, or if the income source was verified  \n",
       "27  The upper boundary range the borrower’s last FICO pulled belongs to.                        \n",
       "28  The lower boundary range the borrower’s last FICO pulled belongs to.                        \n",
       "71  Total revolving high credit/credit limit                                                    \n",
       "78  NaN                                                                                         \n",
       "79  * Employer Title replaces Employer Name for all loans listed after 9/23/2013                "
      ]
     },
     "execution_count": 61,
     "metadata": {},
     "output_type": "execute_result"
    }
   ],
   "source": [
    "df_dict[~df_dict['LoanStatNew'].isin(df_loan.columns)]"
   ]
  },
  {
   "cell_type": "markdown",
   "metadata": {},
   "source": [
    "\n",
    "#### Missing FICO scores in loan data"
   ]
  },
  {
   "cell_type": "markdown",
   "metadata": {},
   "source": [
    "If I am looking to predict interest rates charged, then FICO ranges is probably quite important - but let's see what can be done in the absence of FICO"
   ]
  },
  {
   "cell_type": "markdown",
   "metadata": {
    "heading_collapsed": true
   },
   "source": [
    "#### Issue and credit pulled dates"
   ]
  },
  {
   "cell_type": "code",
   "execution_count": null,
   "metadata": {
    "collapsed": true,
    "hidden": true
   },
   "outputs": [],
   "source": [
    "df_loan['issue_d'].head()"
   ]
  },
  {
   "cell_type": "code",
   "execution_count": null,
   "metadata": {
    "collapsed": true,
    "hidden": true
   },
   "outputs": [],
   "source": [
    "df_loan['issue_d'].value_counts().head()"
   ]
  },
  {
   "cell_type": "code",
   "execution_count": 23,
   "metadata": {
    "hidden": true
   },
   "outputs": [],
   "source": [
    "df_loan['issue_d'] = df_loan['issue_d'].apply(lambda x: datetime.datetime.strptime(x,'%b-%Y'))"
   ]
  },
  {
   "cell_type": "code",
   "execution_count": 24,
   "metadata": {
    "hidden": true
   },
   "outputs": [
    {
     "data": {
      "text/plain": [
       "2015-10-01    48631\n",
       "2015-07-01    45962\n",
       "2015-12-01    44342\n",
       "2014-10-01    38782\n",
       "2015-11-01    37530\n",
       "Name: issue_d, dtype: int64"
      ]
     },
     "execution_count": 24,
     "metadata": {},
     "output_type": "execute_result"
    }
   ],
   "source": [
    "df_loan['issue_d'].value_counts().head()"
   ]
  },
  {
   "cell_type": "code",
   "execution_count": 27,
   "metadata": {
    "hidden": true
   },
   "outputs": [
    {
     "name": "stdout",
     "output_type": "stream",
     "text": [
      "count     887326  \n",
      "unique    103     \n",
      "top       Jan-2016\n",
      "freq      730574  \n",
      "Name: last_credit_pull_d, dtype: object\n",
      "Total Missing values = 53\n"
     ]
    }
   ],
   "source": [
    "get_col_info(df_loan['last_credit_pull_d'])"
   ]
  },
  {
   "cell_type": "code",
   "execution_count": 28,
   "metadata": {
    "hidden": true
   },
   "outputs": [
    {
     "data": {
      "text/plain": [
       "Jan-2016    730574\n",
       "Dec-2015    19308 \n",
       "Nov-2015    11490 \n",
       "Oct-2015    10419 \n",
       "Sep-2015    10087 \n",
       "Name: last_credit_pull_d, dtype: int64"
      ]
     },
     "execution_count": 28,
     "metadata": {},
     "output_type": "execute_result"
    }
   ],
   "source": [
    "df_loan['last_credit_pull_d'].value_counts().head()"
   ]
  },
  {
   "cell_type": "code",
   "execution_count": 29,
   "metadata": {
    "code_folding": [
     0
    ],
    "hidden": true
   },
   "outputs": [],
   "source": [
    "def replace_non_null_dates(x):\n",
    "    \"\"\"\n",
    "    x is a string formatted date such as Sep-2015\n",
    "    \"\"\"\n",
    "    if x == np.nan:\n",
    "        return x\n",
    "    else:\n",
    "        return datetime.datetime.strptime(str(x),'%b-%Y')"
   ]
  },
  {
   "cell_type": "code",
   "execution_count": 30,
   "metadata": {
    "hidden": true
   },
   "outputs": [],
   "source": [
    "df_loan['last_credit_pull_d'].fillna('Jan-1900',inplace=True)"
   ]
  },
  {
   "cell_type": "code",
   "execution_count": 31,
   "metadata": {
    "hidden": true,
    "scrolled": true
   },
   "outputs": [],
   "source": [
    "df_loan['last_credit_pull_d'] = df_loan['last_credit_pull_d'].apply(lambda x: replace_non_null_dates(x))"
   ]
  },
  {
   "cell_type": "code",
   "execution_count": 32,
   "metadata": {
    "hidden": true
   },
   "outputs": [
    {
     "data": {
      "text/plain": [
       "2016-01-01    730574\n",
       "2015-12-01    19308 \n",
       "2015-11-01    11490 \n",
       "2015-10-01    10419 \n",
       "2015-09-01    10087 \n",
       "Name: last_credit_pull_d, dtype: int64"
      ]
     },
     "execution_count": 32,
     "metadata": {},
     "output_type": "execute_result"
    }
   ],
   "source": [
    "df_loan['last_credit_pull_d'].value_counts().head()"
   ]
  },
  {
   "cell_type": "code",
   "execution_count": null,
   "metadata": {
    "collapsed": true,
    "hidden": true
   },
   "outputs": [],
   "source": []
  },
  {
   "cell_type": "code",
   "execution_count": 38,
   "metadata": {
    "hidden": true
   },
   "outputs": [
    {
     "data": {
      "text/plain": [
       "53"
      ]
     },
     "execution_count": 38,
     "metadata": {},
     "output_type": "execute_result"
    }
   ],
   "source": [
    "len(df_loan[df_loan['last_credit_pull_d']=='1900-01-01'].index)"
   ]
  },
  {
   "cell_type": "code",
   "execution_count": 41,
   "metadata": {
    "hidden": true
   },
   "outputs": [
    {
     "data": {
      "text/plain": [
       "issue_d               707\n",
       "last_credit_pull_d    707\n",
       "dtype: int64"
      ]
     },
     "execution_count": 41,
     "metadata": {},
     "output_type": "execute_result"
    }
   ],
   "source": [
    "df_loan[(df_loan['issue_d'] > df_loan['last_credit_pull_d'])& (df_loan['last_credit_pull_d'] != '1900-01-01')][['issue_d','last_credit_pull_d']].count()"
   ]
  },
  {
   "cell_type": "markdown",
   "metadata": {
    "hidden": true
   },
   "source": [
    "Most of the credit pulls are after the issue date - not much use of this field either"
   ]
  },
  {
   "cell_type": "markdown",
   "metadata": {
    "heading_collapsed": true
   },
   "source": [
    "### Initial thoughts"
   ]
  },
  {
   "cell_type": "markdown",
   "metadata": {
    "hidden": true
   },
   "source": [
    "What is the problem that I am trying to solve here? I want to see if I can predict the interest rate a customer will get at Lending club with only data available at the applicatoin stage. \n",
    "\n",
    "Lending club already has information on their rates here - https://www.lendingclub.com/public/rates-and-fees.action \n",
    "\n",
    "![Grades chart](./images/Grades.png)\n",
    "\n",
    "\n",
    "\n",
    "On the website if you go through the process, they ask you for your credit score, amount of loan and what you want this for. \n",
    "\n",
    "Then they ask you for your address etc and do a soft credit pull. The FICO score is a big part of the interest rate. \n",
    "\n",
    "Can I reverse engineer the interest rate/loan grade without the FICO score? There are other datasets out there that contain the FICO score with the same lending club data"
   ]
  },
  {
   "cell_type": "markdown",
   "metadata": {
    "heading_collapsed": true,
    "hidden": true
   },
   "source": [
    "#### What are the features that are available at application stage? "
   ]
  },
  {
   "cell_type": "markdown",
   "metadata": {
    "hidden": true
   },
   "source": [
    "From list of features:\n",
    "\n",
    "|Feature           |Available?|Notes                                          |\n",
    "|------------------|----------|-----------------------------------------------|\n",
    "| 'addr_state'     | Y        |                                               |\n",
    "|acc_now_delinq  | N | Post app\n",
    "| 'all_util' | N |  this is probably current from credit report and will not be available\n",
    "|'annual_inc'| Y |\n",
    "|'annual_inc_joint'| Y |\n",
    "|'application_type'| Y |\n",
    "|'collection_recovery_fee'| N |  contains post app info\n",
    "|'collections_12_mths_ex_med'| N | contains post app info\n",
    "|'delinq_2yrs'| N | Post app\n",
    "|'desc' | Y | although this is a free form text entry, I believe\n",
    "|'dti' | Y? |  Available and most likely important (from credit bureau pull? - post app?)\n",
    "|'dti_joint'| Y |   Available and most likely important (from credit bureau pull? - post app?)\n",
    "|'earliest_cr_line'| Y | From rumours, very important\n",
    "|'emp_length'| Y | Might be important? \n",
    "|'emp_title'| Y | Not sure how to use this\n",
    "|'funded_amnt'| N | Post app\n",
    "|'funded_amnt_inv'| N |Post app\n",
    "|'grade'| N | Target variable \n",
    "|'home_ownership'| Y |Categorical (potentially useful?) \n",
    "|'id'| Y | Lending club issued id - Should not matter\n",
    "|'il_util'| N | Ratio of util to current balance\n",
    "|'initial_list_status'| Y | not sure what to make of this\n",
    "|'inq_fi'| N?  | Personal finance inquiries includes post app\n",
    "|'inq_last_12m'| N | Post app\n",
    "|'inq_last_6mths'| N | Post app\n",
    "|'installment' | Y? | When is this decided? \n",
    "|'int_rate'| N | Target variable \n",
    "|'issue_d'| Y | Issue date\n",
    "|'last_credit_pull_d'| N | Post app\n",
    "|'last_pymnt_amnt'| N | Post app\n",
    "|'last_pymnt_d'| N | Post ap\n",
    "|'loan_amnt' | Y | Important\n",
    "|'loan_status'| N | Current loan status\n",
    "|'max_bal_bc' | N | Maximum current balance\n",
    "|'member_id' | Y | Lending club provided\n",
    "|'mths_since_last_delinq' | N | Too current\n",
    "|'mths_since_last_major_derog' | N ? | After issue? \n",
    "|'mths_since_last_record' | N? | What is a public record? \n",
    "|'mths_since_rcnt_il', | N? | Months since recent installment account\n",
    "|'next_pymnt_d'| N | next pyament date\n",
    "|'open_acc'| N | Status of account\n",
    "|'open_acc_6m' | N | open acct months ago\n",
    "|'open_il_12m'| N | Open installment accounts 12 months ago\n",
    "|'open_il_24m'| N | Number of  installment accounts opened 24 months\n",
    "|'open_il_6m' | N | Number of  installment accounts Open 6 months\n",
    "|'open_rv_12m'| N | Number of revolving trades opened 12 months\n",
    "|'open_rv_24m'| N | Number of revolving trades opned in 24 months\n",
    "|'out_prncp' | N | Remaining outstanding principal for total amount funded\n",
    "|out_prncp_inv|\tN | Remaining outstanding principal for portion of total amount funded by investors\n",
    "|'policy_code' | Y? | publicly available policy_code=1\\nnew products not publicly available policy_code=2\n",
    "|'pub_rec' | Y ? | Number of derogatory public records\n",
    "|'purpose' | Y | Purpose of loan\n",
    "|'pymnt_plan'| N | Post default?  - Indicates if a payment plan has been put in place for the loan\n",
    "|'recoveries' | N | Post charge off recoveries\n",
    "|'revol_bal' | Y? | Total credit revolving balance\n",
    "|'revol_util'| Y? | Total utilization that is revolved\n",
    "|'sub_grade' | N | related to grade\n",
    "|'term' | Y | Number of installments?  either 36m or 60 months\n",
    "|'title' | Y | Should not matter\n",
    "|'tot_coll_amt' | N | post app Total collection amounts ever owed\n",
    "|'tot_cur_bal'| N  | Post app Total current balance of all accounts\n",
    "|'total_acc' | Y? | The total number of credit lines currently in the borrower's credit file - does this include the LC loan? \n",
    "|'total_bal_il'| N | Total current balance of all installment accounts\n",
    "|'total_cu_tl' | Y? | \tNumber of finance trades\n",
    "|'total_pymnt'| N | Total payment\n",
    "|'total_pymnt_inv' | N | total payment to investors\n",
    "|'total_rec_int' | N | post app received interest\n",
    "|'total_rec_late_fee'| N | Post app received late fee\n",
    "|'total_rec_prncp' | N | POst app received principal\n",
    "|'total_rev_hi_lim' | Y? | Total revolving high credit/credit limit\n",
    "|'url' | Y | WOuld not matter\n",
    "|'verification_status' | Y | Potentially useful\n",
    "|'verification_status_joint' | Y | Potentially useful\n",
    "|'zip_code'| Y | Useful? "
   ]
  },
  {
   "cell_type": "markdown",
   "metadata": {},
   "source": [
    "### Drop the definitely post app features"
   ]
  },
  {
   "cell_type": "code",
   "execution_count": 64,
   "metadata": {
    "collapsed": true
   },
   "outputs": [],
   "source": [
    "future_imports = ['acc_now_delinq','collection_recovery_fee','collections_12_mths_ex_med', \n",
    "                  'funded_amnt','funded_amnt_inv','inq_fi','inq_last_12m','inq_last_6mths',\n",
    "                  'last_credit_pull_d','last_pymnt_amnt','last_pymnt_d',\n",
    "                  'loan_status','max_bal_bc','mths_since_last_delinq',\n",
    "                  'mths_since_last_major_derog','mths_since_last_record',\n",
    "                  'mths_since_rcnt_il','next_pymnt_d','open_acc','open_acc_6m',\n",
    "                  'open_il_12m','open_il_24m','open_il_6m','open_rv_12m','open_rv_24m',\n",
    "                  'out_prncp' ,'out_prncp_inv','pymnt_plan','recoveries','sub_grade',\n",
    "                  'tot_coll_amt','tot_cur_bal','total_bal_il','total_cu_tl',\n",
    "                  'total_pymnt','total_pymnt_inv','total_rec_int','total_rec_late_fee',\n",
    "                  'total_rec_prncp']"
   ]
  },
  {
   "cell_type": "code",
   "execution_count": 65,
   "metadata": {
    "collapsed": true
   },
   "outputs": [],
   "source": [
    "df_loan_app = sample_loan_df.drop(labels=future_imports, axis=1)"
   ]
  },
  {
   "cell_type": "code",
   "execution_count": 66,
   "metadata": {},
   "outputs": [
    {
     "data": {
      "text/plain": [
       "Index(['id', 'member_id', 'loan_amnt', 'term', 'int_rate', 'installment',\n",
       "       'grade', 'emp_title', 'emp_length', 'home_ownership', 'annual_inc',\n",
       "       'verification_status', 'issue_d', 'url', 'desc', 'purpose', 'title',\n",
       "       'zip_code', 'addr_state', 'dti', 'delinq_2yrs', 'earliest_cr_line',\n",
       "       'pub_rec', 'revol_bal', 'revol_util', 'total_acc',\n",
       "       'initial_list_status', 'policy_code', 'application_type',\n",
       "       'annual_inc_joint', 'dti_joint', 'verified_status_joint', 'il_util',\n",
       "       'all_util', 'total_rev_hi_lim'],\n",
       "      dtype='object')"
      ]
     },
     "execution_count": 66,
     "metadata": {},
     "output_type": "execute_result"
    }
   ],
   "source": [
    "df_loan_app.columns"
   ]
  },
  {
   "cell_type": "code",
   "execution_count": 67,
   "metadata": {},
   "outputs": [
    {
     "name": "stdout",
     "output_type": "stream",
     "text": [
      "<class 'pandas.core.frame.DataFrame'>\n",
      "Index: 30000 entries, 594037 to 398874\n",
      "Data columns (total 35 columns):\n",
      "id                       30000 non-null int64\n",
      "member_id                30000 non-null int64\n",
      "loan_amnt                30000 non-null float64\n",
      "term                     30000 non-null object\n",
      "int_rate                 30000 non-null float64\n",
      "installment              30000 non-null float64\n",
      "grade                    30000 non-null object\n",
      "emp_title                28245 non-null object\n",
      "emp_length               30000 non-null object\n",
      "home_ownership           30000 non-null object\n",
      "annual_inc               30000 non-null float64\n",
      "verification_status      30000 non-null object\n",
      "issue_d                  30000 non-null datetime64[ns]\n",
      "url                      30000 non-null object\n",
      "desc                     4247 non-null object\n",
      "purpose                  30000 non-null object\n",
      "title                    29994 non-null object\n",
      "zip_code                 30000 non-null object\n",
      "addr_state               30000 non-null object\n",
      "dti                      30000 non-null float64\n",
      "delinq_2yrs              29999 non-null float64\n",
      "earliest_cr_line         29999 non-null object\n",
      "pub_rec                  29999 non-null float64\n",
      "revol_bal                30000 non-null float64\n",
      "revol_util               29980 non-null float64\n",
      "total_acc                29999 non-null float64\n",
      "initial_list_status      30000 non-null object\n",
      "policy_code              30000 non-null float64\n",
      "application_type         30000 non-null object\n",
      "annual_inc_joint         16 non-null float64\n",
      "dti_joint                16 non-null float64\n",
      "verified_status_joint    16 non-null object\n",
      "il_util                  623 non-null float64\n",
      "all_util                 716 non-null float64\n",
      "total_rev_hi_lim         27645 non-null float64\n",
      "dtypes: datetime64[ns](1), float64(16), int64(2), object(16)\n",
      "memory usage: 8.2+ MB\n"
     ]
    }
   ],
   "source": [
    "df_loan_app.info()"
   ]
  },
  {
   "cell_type": "markdown",
   "metadata": {},
   "source": [
    "### Let's look at the various features"
   ]
  },
  {
   "cell_type": "markdown",
   "metadata": {
    "heading_collapsed": true
   },
   "source": [
    "#### Loan amounts"
   ]
  },
  {
   "cell_type": "code",
   "execution_count": 69,
   "metadata": {
    "hidden": true
   },
   "outputs": [
    {
     "data": {
      "text/plain": [
       "<matplotlib.axes._subplots.AxesSubplot at 0x7f38a9b4c0f0>"
      ]
     },
     "execution_count": 69,
     "metadata": {},
     "output_type": "execute_result"
    },
    {
     "data": {
      "image/png": "[encoded data removed]",
      "text/plain": [
       "<matplotlib.figure.Figure at 0x7f38a9bab278>"
      ]
     },
     "metadata": {},
     "output_type": "display_data"
    }
   ],
   "source": [
    "df_loan_app['loan_amnt'].hist(bins=30)"
   ]
  },
  {
   "cell_type": "markdown",
   "metadata": {
    "hidden": true
   },
   "source": [
    "People like to ask for round numbers - 10000, 15000, and 20000 seem to be the most requested loans. "
   ]
  },
  {
   "cell_type": "markdown",
   "metadata": {
    "heading_collapsed": true
   },
   "source": [
    "#### Where are the loan applicants from?"
   ]
  },
  {
   "cell_type": "code",
   "execution_count": 46,
   "metadata": {
    "hidden": true
   },
   "outputs": [
    {
     "data": {
      "text/plain": [
       "<matplotlib.axes._subplots.AxesSubplot at 0x7f389ec8ee10>"
      ]
     },
     "execution_count": 46,
     "metadata": {},
     "output_type": "execute_result"
    },
    {
     "data": {
      "image/png": "[encoded data removed]",
      "text/plain": [
       "<matplotlib.figure.Figure at 0x7f38c8848860>"
      ]
     },
     "metadata": {},
     "output_type": "display_data"
    }
   ],
   "source": [
    "df_loan_app['addr_state'].sort_values().value_counts().plot(kind='bar', figsize=(12,6))"
   ]
  },
  {
   "cell_type": "code",
   "execution_count": 133,
   "metadata": {
    "hidden": true
   },
   "outputs": [
    {
     "data": {
      "text/plain": [
       "count     887379\n",
       "unique    51    \n",
       "top       CA    \n",
       "freq      129517\n",
       "Name: addr_state, dtype: object"
      ]
     },
     "execution_count": 133,
     "metadata": {},
     "output_type": "execute_result"
    }
   ],
   "source": [
    "df_loan_app['addr_state'].describe()"
   ]
  },
  {
   "cell_type": "markdown",
   "metadata": {
    "hidden": true
   },
   "source": [
    "Mostly from California and NY, Texas, Florida and then kinda drops off. No missing values"
   ]
  },
  {
   "cell_type": "markdown",
   "metadata": {
    "heading_collapsed": true
   },
   "source": [
    "#### What about the utilization? "
   ]
  },
  {
   "cell_type": "code",
   "execution_count": 134,
   "metadata": {
    "hidden": true
   },
   "outputs": [
    {
     "name": "stdout",
     "output_type": "stream",
     "text": [
      "count    21372.00000\n",
      "mean     60.83194   \n",
      "std      20.01325   \n",
      "min      0.00000    \n",
      "25%      47.70000   \n",
      "50%      61.90000   \n",
      "75%      75.20000   \n",
      "max      151.40000  \n",
      "Name: all_util, dtype: float64\n",
      "Total Missing values = 866007\n"
     ]
    }
   ],
   "source": [
    "get_col_info(data_col=df_loan_app['all_util'])"
   ]
  },
  {
   "cell_type": "markdown",
   "metadata": {
    "hidden": true
   },
   "source": [
    "A lot of missing values here - only 21372 out of 887379 are available. Might need to drop this column from any modeling problems. What else can I do for these missing values? "
   ]
  },
  {
   "cell_type": "code",
   "execution_count": 61,
   "metadata": {
    "hidden": true
   },
   "outputs": [
    {
     "data": {
      "text/plain": [
       "<matplotlib.axes._subplots.AxesSubplot at 0x7f7ffc44c7f0>"
      ]
     },
     "execution_count": 61,
     "metadata": {},
     "output_type": "execute_result"
    },
    {
     "data": {
      "image/png": "[encoded data removed]",
      "text/plain": [
       "<matplotlib.figure.Figure at 0x7f7ffc475898>"
      ]
     },
     "metadata": {},
     "output_type": "display_data"
    }
   ],
   "source": [
    "df_loan['all_util'].hist(bins=20)"
   ]
  },
  {
   "cell_type": "code",
   "execution_count": 63,
   "metadata": {
    "hidden": true
   },
   "outputs": [
    {
     "data": {
      "text/plain": [
       "<matplotlib.axes._subplots.AxesSubplot at 0x7f7ffc4782b0>"
      ]
     },
     "execution_count": 63,
     "metadata": {},
     "output_type": "execute_result"
    },
    {
     "data": {
      "image/png": "[encoded data removed]",
      "text/plain": [
       "<matplotlib.figure.Figure at 0x7f7ffc36b2e8>"
      ]
     },
     "metadata": {},
     "output_type": "display_data"
    }
   ],
   "source": [
    "sns.violinplot(x=df_loan['all_util'].dropna())"
   ]
  },
  {
   "cell_type": "markdown",
   "metadata": {
    "heading_collapsed": true
   },
   "source": [
    "#### Annual income"
   ]
  },
  {
   "cell_type": "code",
   "execution_count": 136,
   "metadata": {
    "hidden": true
   },
   "outputs": [
    {
     "name": "stdout",
     "output_type": "stream",
     "text": [
      "count    8.87375e+05\n",
      "mean     7.50276e+04\n",
      "std      6.46983e+04\n",
      "min      0.00000e+00\n",
      "25%      4.50000e+04\n",
      "50%      6.50000e+04\n",
      "75%      9.00000e+04\n",
      "max      9.50000e+06\n",
      "Name: annual_inc, dtype: float64\n",
      "Total Missing values = 4\n"
     ]
    }
   ],
   "source": [
    "get_col_info(df_loan_app['annual_inc'])"
   ]
  },
  {
   "cell_type": "code",
   "execution_count": 24,
   "metadata": {
    "hidden": true
   },
   "outputs": [
    {
     "data": {
      "text/plain": [
       "<matplotlib.axes._subplots.AxesSubplot at 0x7f9e7af4f908>"
      ]
     },
     "execution_count": 24,
     "metadata": {},
     "output_type": "execute_result"
    },
    {
     "data": {
      "image/png": "[encoded data removed]",
      "text/plain": [
       "<matplotlib.figure.Figure at 0x7f9ea671ff60>"
      ]
     },
     "metadata": {},
     "output_type": "display_data"
    }
   ],
   "source": [
    "sns.boxplot(x=df_loan[\"annual_inc\"].dropna())"
   ]
  },
  {
   "cell_type": "markdown",
   "metadata": {
    "hidden": true
   },
   "source": [
    "Outliers - will need to transform this feature. A log should probably be a good enough transformation"
   ]
  },
  {
   "cell_type": "markdown",
   "metadata": {
    "heading_collapsed": true
   },
   "source": [
    "#### Annual income joint"
   ]
  },
  {
   "cell_type": "code",
   "execution_count": 137,
   "metadata": {
    "hidden": true
   },
   "outputs": [
    {
     "name": "stdout",
     "output_type": "stream",
     "text": [
      "count    511.00000   \n",
      "mean     109981.01159\n",
      "std      52730.37985 \n",
      "min      17950.00000 \n",
      "25%      76032.50000 \n",
      "50%      101771.00000\n",
      "75%      132800.00000\n",
      "max      500000.00000\n",
      "Name: annual_inc_joint, dtype: float64\n",
      "Total Missing values = 886868\n"
     ]
    }
   ],
   "source": [
    "get_col_info(df_loan_app['annual_inc_joint'])"
   ]
  },
  {
   "cell_type": "markdown",
   "metadata": {
    "hidden": true
   },
   "source": [
    "Lots of missing values - most applicants are not applying with anyone else? "
   ]
  },
  {
   "cell_type": "markdown",
   "metadata": {
    "heading_collapsed": true
   },
   "source": [
    "#### Application type"
   ]
  },
  {
   "cell_type": "code",
   "execution_count": 138,
   "metadata": {
    "hidden": true
   },
   "outputs": [
    {
     "name": "stdout",
     "output_type": "stream",
     "text": [
      "count     887379    \n",
      "unique    2         \n",
      "top       INDIVIDUAL\n",
      "freq      886868    \n",
      "Name: application_type, dtype: object\n",
      "Total Missing values = 0\n"
     ]
    }
   ],
   "source": [
    "get_col_info(df_loan_app['application_type'])"
   ]
  },
  {
   "cell_type": "code",
   "execution_count": 139,
   "metadata": {
    "hidden": true
   },
   "outputs": [
    {
     "data": {
      "text/plain": [
       "INDIVIDUAL    886868\n",
       "JOINT         511   \n",
       "Name: application_type, dtype: int64"
      ]
     },
     "execution_count": 139,
     "metadata": {},
     "output_type": "execute_result"
    }
   ],
   "source": [
    "df_loan_app['application_type'].value_counts()"
   ]
  },
  {
   "cell_type": "markdown",
   "metadata": {
    "hidden": true
   },
   "source": [
    "As expected from joint income, only 511 applications are applying together"
   ]
  },
  {
   "cell_type": "markdown",
   "metadata": {},
   "source": [
    "#### Drop joint applications - and related columns "
   ]
  },
  {
   "cell_type": "code",
   "execution_count": 70,
   "metadata": {},
   "outputs": [],
   "source": [
    "df_loan_app.drop(df_loan_app[df_loan_app['application_type']=='JOINT'].index, inplace=True)"
   ]
  },
  {
   "cell_type": "code",
   "execution_count": 71,
   "metadata": {},
   "outputs": [
    {
     "data": {
      "text/plain": [
       "INDIVIDUAL    29984\n",
       "Name: application_type, dtype: int64"
      ]
     },
     "execution_count": 71,
     "metadata": {},
     "output_type": "execute_result"
    }
   ],
   "source": [
    "df_loan_app['application_type'].value_counts()"
   ]
  },
  {
   "cell_type": "markdown",
   "metadata": {},
   "source": [
    "Joint application columns"
   ]
  },
  {
   "cell_type": "code",
   "execution_count": 72,
   "metadata": {
    "collapsed": true
   },
   "outputs": [],
   "source": [
    "joint_cols = ['dti_joint', 'verified_status_joint', 'annual_inc_joint']"
   ]
  },
  {
   "cell_type": "code",
   "execution_count": 73,
   "metadata": {
    "collapsed": true
   },
   "outputs": [],
   "source": [
    "df_loan_app.drop(labels=joint_cols,axis=1, inplace=True)"
   ]
  },
  {
   "cell_type": "code",
   "execution_count": 74,
   "metadata": {},
   "outputs": [
    {
     "data": {
      "text/plain": [
       "Index(['id', 'member_id', 'loan_amnt', 'term', 'int_rate', 'installment',\n",
       "       'grade', 'emp_title', 'emp_length', 'home_ownership', 'annual_inc',\n",
       "       'verification_status', 'issue_d', 'url', 'desc', 'purpose', 'title',\n",
       "       'zip_code', 'addr_state', 'dti', 'delinq_2yrs', 'earliest_cr_line',\n",
       "       'pub_rec', 'revol_bal', 'revol_util', 'total_acc',\n",
       "       'initial_list_status', 'policy_code', 'application_type', 'il_util',\n",
       "       'all_util', 'total_rev_hi_lim'],\n",
       "      dtype='object')"
      ]
     },
     "execution_count": 74,
     "metadata": {},
     "output_type": "execute_result"
    }
   ],
   "source": [
    "df_loan_app.columns"
   ]
  },
  {
   "cell_type": "markdown",
   "metadata": {},
   "source": [
    "#### Delinquency 2 years"
   ]
  },
  {
   "cell_type": "code",
   "execution_count": 37,
   "metadata": {},
   "outputs": [
    {
     "name": "stdout",
     "output_type": "stream",
     "text": [
      "count    887350.00000\n",
      "mean     0.31444     \n",
      "std      0.86224     \n",
      "min      0.00000     \n",
      "25%      0.00000     \n",
      "50%      0.00000     \n",
      "75%      0.00000     \n",
      "max      39.00000    \n",
      "Name: delinq_2yrs, dtype: float64\n",
      "Total Missing values = 29\n"
     ]
    }
   ],
   "source": [
    "get_col_info(df_loan['delinq_2yrs'])"
   ]
  },
  {
   "cell_type": "code",
   "execution_count": 89,
   "metadata": {},
   "outputs": [],
   "source": [
    "sample_loan_df['days b/w pull and issue'] = (sample_loan_df['last_credit_pull_d'] - sample_loan_df['issue_d']).dt.days"
   ]
  },
  {
   "cell_type": "code",
   "execution_count": 93,
   "metadata": {},
   "outputs": [
    {
     "data": {
      "text/plain": [
       "count    30000.00000\n",
       "mean     468.69163  \n",
       "std      519.21455  \n",
       "min     -41669.00000\n",
       "25%      184.00000  \n",
       "50%      365.00000  \n",
       "75%      671.00000  \n",
       "max      3014.00000 \n",
       "Name: days b/w pull and issue, dtype: float64"
      ]
     },
     "execution_count": 93,
     "metadata": {},
     "output_type": "execute_result"
    }
   ],
   "source": [
    "sample_loan_df['days b/w pull and issue'].describe()"
   ]
  },
  {
   "cell_type": "code",
   "execution_count": null,
   "metadata": {
    "collapsed": true
   },
   "outputs": [],
   "source": []
  },
  {
   "cell_type": "markdown",
   "metadata": {},
   "source": [
    "If I am trying to predict interest/default status - can I use this? \n",
    "This feels like it will have data from post app"
   ]
  },
  {
   "cell_type": "markdown",
   "metadata": {
    "heading_collapsed": true
   },
   "source": [
    "#### Installment"
   ]
  },
  {
   "cell_type": "code",
   "execution_count": 145,
   "metadata": {
    "hidden": true
   },
   "outputs": [
    {
     "name": "stdout",
     "output_type": "stream",
     "text": [
      "count    886868.00000\n",
      "mean     436.65293   \n",
      "std      244.16397   \n",
      "min      15.67000    \n",
      "25%      260.60000   \n",
      "50%      382.55000   \n",
      "75%      572.47000   \n",
      "max      1445.46000  \n",
      "Name: installment, dtype: float64\n",
      "Total Missing values = 0\n"
     ]
    }
   ],
   "source": [
    "get_col_info(df_loan_app['installment'])"
   ]
  },
  {
   "cell_type": "code",
   "execution_count": 152,
   "metadata": {
    "hidden": true
   },
   "outputs": [
    {
     "data": {
      "text/plain": [
       "<matplotlib.axes._subplots.AxesSubplot at 0x7f8003983198>"
      ]
     },
     "execution_count": 152,
     "metadata": {},
     "output_type": "execute_result"
    },
    {
     "data": {
      "image/png": "[encoded data removed]",
      "text/plain": [
       "<matplotlib.figure.Figure at 0x7f800387f6d8>"
      ]
     },
     "metadata": {},
     "output_type": "display_data"
    }
   ],
   "source": [
    "df_loan_app['installment'].hist(bins=20)"
   ]
  },
  {
   "cell_type": "markdown",
   "metadata": {
    "hidden": true
   },
   "source": [
    "Most people are paying under 500$ a month"
   ]
  },
  {
   "cell_type": "markdown",
   "metadata": {
    "heading_collapsed": true
   },
   "source": [
    "#### Terms - LC only offers 36m and 60m? "
   ]
  },
  {
   "cell_type": "code",
   "execution_count": 153,
   "metadata": {
    "hidden": true
   },
   "outputs": [
    {
     "name": "stdout",
     "output_type": "stream",
     "text": [
      "count     886868    \n",
      "unique    2         \n",
      "top        36 months\n",
      "freq      620886    \n",
      "Name: term, dtype: object\n",
      "Total Missing values = 0\n"
     ]
    }
   ],
   "source": [
    "get_col_info(df_loan_app['term'])"
   ]
  },
  {
   "cell_type": "code",
   "execution_count": 154,
   "metadata": {
    "hidden": true
   },
   "outputs": [
    {
     "data": {
      "text/plain": [
       "<matplotlib.axes._subplots.AxesSubplot at 0x7f800a0923c8>"
      ]
     },
     "execution_count": 154,
     "metadata": {},
     "output_type": "execute_result"
    },
    {
     "data": {
      "image/png": "[encoded data removed]",
      "text/plain": [
       "<matplotlib.figure.Figure at 0x7f7fdc6fe0f0>"
      ]
     },
     "metadata": {},
     "output_type": "display_data"
    }
   ],
   "source": [
    "sns.countplot(df_loan_app['term'])"
   ]
  },
  {
   "cell_type": "markdown",
   "metadata": {},
   "source": [
    "#### Home ownership"
   ]
  },
  {
   "cell_type": "markdown",
   "metadata": {
    "heading_collapsed": true
   },
   "source": [
    "#### Employment length"
   ]
  },
  {
   "cell_type": "code",
   "execution_count": 157,
   "metadata": {
    "hidden": true
   },
   "outputs": [
    {
     "name": "stdout",
     "output_type": "stream",
     "text": [
      "count     886868   \n",
      "unique    12       \n",
      "top       10+ years\n",
      "freq      291403   \n",
      "Name: emp_length, dtype: object\n",
      "Total Missing values = 0\n"
     ]
    }
   ],
   "source": [
    "get_col_info(df_loan_app['emp_length'])"
   ]
  },
  {
   "cell_type": "code",
   "execution_count": 159,
   "metadata": {
    "hidden": true
   },
   "outputs": [
    {
     "data": {
      "text/plain": [
       "10+ years    291403\n",
       "2 years      78833 \n",
       "< 1 year     70559 \n",
       "3 years      69994 \n",
       "1 year       57064 \n",
       "5 years      55686 \n",
       "4 years      52496 \n",
       "n/a          44764 \n",
       "7 years      44576 \n",
       "8 years      43930 \n",
       "6 years      42928 \n",
       "9 years      34635 \n",
       "Name: emp_length, dtype: int64"
      ]
     },
     "execution_count": 159,
     "metadata": {},
     "output_type": "execute_result"
    }
   ],
   "source": [
    "df_loan_app['emp_length'].value_counts()"
   ]
  },
  {
   "cell_type": "code",
   "execution_count": 158,
   "metadata": {
    "hidden": true
   },
   "outputs": [
    {
     "data": {
      "text/plain": [
       "<matplotlib.axes._subplots.AxesSubplot at 0x7f7fdc63bcc0>"
      ]
     },
     "execution_count": 158,
     "metadata": {},
     "output_type": "execute_result"
    },
    {
     "data": {
      "image/png": "[encoded data removed]",
      "text/plain": [
       "<matplotlib.figure.Figure at 0x7f8017e445f8>"
      ]
     },
     "metadata": {},
     "output_type": "display_data"
    }
   ],
   "source": [
    "sns.countplot(df_loan_app['emp_length'])"
   ]
  },
  {
   "cell_type": "markdown",
   "metadata": {
    "hidden": true
   },
   "source": [
    "What does n/a mean in this case? How do I treat it? "
   ]
  },
  {
   "cell_type": "markdown",
   "metadata": {},
   "source": [
    "#### "
   ]
  },
  {
   "cell_type": "markdown",
   "metadata": {},
   "source": [
    "#### Policy code"
   ]
  },
  {
   "cell_type": "code",
   "execution_count": 46,
   "metadata": {},
   "outputs": [
    {
     "name": "stdout",
     "output_type": "stream",
     "text": [
      "count    887379.0\n",
      "mean     1.0     \n",
      "std      0.0     \n",
      "min      1.0     \n",
      "25%      1.0     \n",
      "50%      1.0     \n",
      "75%      1.0     \n",
      "max      1.0     \n",
      "Name: policy_code, dtype: float64\n",
      "Total Missing values = 0\n"
     ]
    }
   ],
   "source": [
    "get_col_info(df_loan, 'policy_code')"
   ]
  },
  {
   "cell_type": "markdown",
   "metadata": {},
   "source": [
    "No variation at all - drop"
   ]
  },
  {
   "cell_type": "code",
   "execution_count": 47,
   "metadata": {
    "collapsed": true
   },
   "outputs": [],
   "source": [
    "df_loan_app.drop(labels=['policy_code'],axis=1, inplace=True)"
   ]
  },
  {
   "cell_type": "markdown",
   "metadata": {
    "heading_collapsed": true
   },
   "source": [
    "#### Grade and interest - the targets "
   ]
  },
  {
   "cell_type": "code",
   "execution_count": 48,
   "metadata": {
    "hidden": true
   },
   "outputs": [
    {
     "name": "stdout",
     "output_type": "stream",
     "text": [
      "count     887379\n",
      "unique    7     \n",
      "top       B     \n",
      "freq      254535\n",
      "Name: grade, dtype: object\n",
      "Total Missing values = 0\n"
     ]
    }
   ],
   "source": [
    "get_col_info(df_loan,'grade')"
   ]
  },
  {
   "cell_type": "code",
   "execution_count": 49,
   "metadata": {
    "hidden": true
   },
   "outputs": [
    {
     "data": {
      "image/png": "[encoded data removed]",
      "text/plain": [
       "<matplotlib.figure.Figure at 0x7f801e85de80>"
      ]
     },
     "metadata": {},
     "output_type": "display_data"
    }
   ],
   "source": [
    "plot_categorical_counts(df_loan['grade'])"
   ]
  },
  {
   "cell_type": "markdown",
   "metadata": {
    "hidden": true
   },
   "source": [
    "Interest rate"
   ]
  },
  {
   "cell_type": "code",
   "execution_count": 53,
   "metadata": {
    "hidden": true
   },
   "outputs": [
    {
     "name": "stdout",
     "output_type": "stream",
     "text": [
      "count    887379.00000\n",
      "mean     13.24674    \n",
      "std      4.38187     \n",
      "min      5.32000     \n",
      "25%      9.99000     \n",
      "50%      12.99000    \n",
      "75%      16.20000    \n",
      "max      28.99000    \n",
      "Name: int_rate, dtype: float64\n",
      "Total Missing values = 0\n"
     ]
    }
   ],
   "source": [
    "get_col_info(df_loan,'int_rate')"
   ]
  },
  {
   "cell_type": "code",
   "execution_count": 55,
   "metadata": {
    "hidden": true
   },
   "outputs": [
    {
     "data": {
      "text/plain": [
       "<matplotlib.axes._subplots.AxesSubplot at 0x7f800402ff98>"
      ]
     },
     "execution_count": 55,
     "metadata": {},
     "output_type": "execute_result"
    },
    {
     "data": {
      "image/png": "[encoded data removed]",
      "text/plain": [
       "<matplotlib.figure.Figure at 0x7f8004022a58>"
      ]
     },
     "metadata": {},
     "output_type": "display_data"
    }
   ],
   "source": [
    "sns.distplot(df_loan['int_rate'],kde=True, rug=False)"
   ]
  },
  {
   "cell_type": "markdown",
   "metadata": {
    "hidden": true
   },
   "source": [
    "Interest varies from 5.32 percent to 28.99 "
   ]
  },
  {
   "cell_type": "markdown",
   "metadata": {},
   "source": [
    "#### How do the features correlate with each other?"
   ]
  },
  {
   "cell_type": "code",
   "execution_count": 160,
   "metadata": {},
   "outputs": [],
   "source": [
    "from pandas.tools.plotting import scatter_matrix"
   ]
  },
  {
   "cell_type": "code",
   "execution_count": 54,
   "metadata": {},
   "outputs": [
    {
     "data": {
      "text/plain": [
       "Index(['id', 'member_id', 'term', 'int_rate', 'installment', 'grade',\n",
       "       'emp_title', 'emp_length', 'home_ownership', 'annual_inc',\n",
       "       'verification_status', 'issue_d', 'url', 'desc', 'purpose', 'title',\n",
       "       'zip_code', 'addr_state', 'dti', 'delinq_2yrs', 'earliest_cr_line',\n",
       "       'pub_rec', 'revol_bal', 'revol_util', 'total_acc',\n",
       "       'initial_list_status', 'policy_code', 'application_type', 'il_util',\n",
       "       'all_util', 'total_rev_hi_lim'],\n",
       "      dtype='object')"
      ]
     },
     "execution_count": 54,
     "metadata": {},
     "output_type": "execute_result"
    }
   ],
   "source": [
    "df_loan_app.columns"
   ]
  },
  {
   "cell_type": "code",
   "execution_count": null,
   "metadata": {
    "collapsed": true
   },
   "outputs": [],
   "source": [
    "numerical_features = ['annual']"
   ]
  },
  {
   "cell_type": "code",
   "execution_count": null,
   "metadata": {
    "scrolled": true
   },
   "outputs": [
    {
     "name": "stderr",
     "output_type": "stream",
     "text": [
      "/home/vijay/tools/miniconda3/envs/deep-learner/lib/python3.5/site-packages/matplotlib/axes/_base.py:2903: UserWarning: Attempting to set identical left==right results\n",
      "in singular transformations; automatically expanding.\n",
      "left=1.0, right=1.0\n",
      "  'left=%s, right=%s') % (left, right))\n"
     ]
    },
    {
     "ename": "KeyboardInterrupt",
     "evalue": "",
     "output_type": "error",
     "traceback": [
      "\u001b[0;31m---------------------------------------------------------------------------\u001b[0m",
      "\u001b[0;31mKeyboardInterrupt\u001b[0m                         Traceback (most recent call last)",
      "\u001b[0;32m<ipython-input-161-f8a729ee6bd4>\u001b[0m in \u001b[0;36m<module>\u001b[0;34m()\u001b[0m\n\u001b[0;32m----> 1\u001b[0;31m \u001b[0mscatter_matrix\u001b[0m\u001b[0;34m(\u001b[0m\u001b[0mdf_loan_app\u001b[0m\u001b[0;34m,\u001b[0m \u001b[0mfigsize\u001b[0m\u001b[0;34m=\u001b[0m\u001b[0;34m(\u001b[0m\u001b[0;36m12\u001b[0m\u001b[0;34m,\u001b[0m \u001b[0;36m12\u001b[0m\u001b[0;34m)\u001b[0m\u001b[0;34m,\u001b[0m \u001b[0mdiagonal\u001b[0m\u001b[0;34m=\u001b[0m\u001b[0;34m'kde'\u001b[0m\u001b[0;34m)\u001b[0m\u001b[0;34m\u001b[0m\u001b[0m\n\u001b[0m",
      "\u001b[0;32m/home/vijay/tools/miniconda3/envs/deep-learner/lib/python3.5/site-packages/pandas/tools/plotting.py\u001b[0m in \u001b[0;36mscatter_matrix\u001b[0;34m(frame, alpha, figsize, ax, grid, diagonal, marker, density_kwds, hist_kwds, range_padding, **kwds)\u001b[0m\n\u001b[1;32m    385\u001b[0m                     \u001b[0mgkde\u001b[0m \u001b[0;34m=\u001b[0m \u001b[0mgaussian_kde\u001b[0m\u001b[0;34m(\u001b[0m\u001b[0my\u001b[0m\u001b[0;34m)\u001b[0m\u001b[0;34m\u001b[0m\u001b[0m\n\u001b[1;32m    386\u001b[0m                     \u001b[0mind\u001b[0m \u001b[0;34m=\u001b[0m \u001b[0mnp\u001b[0m\u001b[0;34m.\u001b[0m\u001b[0mlinspace\u001b[0m\u001b[0;34m(\u001b[0m\u001b[0my\u001b[0m\u001b[0;34m.\u001b[0m\u001b[0mmin\u001b[0m\u001b[0;34m(\u001b[0m\u001b[0;34m)\u001b[0m\u001b[0;34m,\u001b[0m \u001b[0my\u001b[0m\u001b[0;34m.\u001b[0m\u001b[0mmax\u001b[0m\u001b[0;34m(\u001b[0m\u001b[0;34m)\u001b[0m\u001b[0;34m,\u001b[0m \u001b[0;36m1000\u001b[0m\u001b[0;34m)\u001b[0m\u001b[0;34m\u001b[0m\u001b[0m\n\u001b[0;32m--> 387\u001b[0;31m                     \u001b[0max\u001b[0m\u001b[0;34m.\u001b[0m\u001b[0mplot\u001b[0m\u001b[0;34m(\u001b[0m\u001b[0mind\u001b[0m\u001b[0;34m,\u001b[0m \u001b[0mgkde\u001b[0m\u001b[0;34m.\u001b[0m\u001b[0mevaluate\u001b[0m\u001b[0;34m(\u001b[0m\u001b[0mind\u001b[0m\u001b[0;34m)\u001b[0m\u001b[0;34m,\u001b[0m \u001b[0;34m**\u001b[0m\u001b[0mdensity_kwds\u001b[0m\u001b[0;34m)\u001b[0m\u001b[0;34m\u001b[0m\u001b[0m\n\u001b[0m\u001b[1;32m    388\u001b[0m \u001b[0;34m\u001b[0m\u001b[0m\n\u001b[1;32m    389\u001b[0m                 \u001b[0max\u001b[0m\u001b[0;34m.\u001b[0m\u001b[0mset_xlim\u001b[0m\u001b[0;34m(\u001b[0m\u001b[0mboundaries_list\u001b[0m\u001b[0;34m[\u001b[0m\u001b[0mi\u001b[0m\u001b[0;34m]\u001b[0m\u001b[0;34m)\u001b[0m\u001b[0;34m\u001b[0m\u001b[0m\n",
      "\u001b[0;32m/home/vijay/tools/miniconda3/envs/deep-learner/lib/python3.5/site-packages/scipy/stats/kde.py\u001b[0m in \u001b[0;36mevaluate\u001b[0;34m(self, points)\u001b[0m\n\u001b[1;32m    218\u001b[0m             \u001b[0;32mfor\u001b[0m \u001b[0mi\u001b[0m \u001b[0;32min\u001b[0m \u001b[0mrange\u001b[0m\u001b[0;34m(\u001b[0m\u001b[0mm\u001b[0m\u001b[0;34m)\u001b[0m\u001b[0;34m:\u001b[0m\u001b[0;34m\u001b[0m\u001b[0m\n\u001b[1;32m    219\u001b[0m                 \u001b[0mdiff\u001b[0m \u001b[0;34m=\u001b[0m \u001b[0mself\u001b[0m\u001b[0;34m.\u001b[0m\u001b[0mdataset\u001b[0m \u001b[0;34m-\u001b[0m \u001b[0mpoints\u001b[0m\u001b[0;34m[\u001b[0m\u001b[0;34m:\u001b[0m\u001b[0;34m,\u001b[0m \u001b[0mi\u001b[0m\u001b[0;34m,\u001b[0m \u001b[0mnewaxis\u001b[0m\u001b[0;34m]\u001b[0m\u001b[0;34m\u001b[0m\u001b[0m\n\u001b[0;32m--> 220\u001b[0;31m                 \u001b[0mtdiff\u001b[0m \u001b[0;34m=\u001b[0m \u001b[0mdot\u001b[0m\u001b[0;34m(\u001b[0m\u001b[0mself\u001b[0m\u001b[0;34m.\u001b[0m\u001b[0minv_cov\u001b[0m\u001b[0;34m,\u001b[0m \u001b[0mdiff\u001b[0m\u001b[0;34m)\u001b[0m\u001b[0;34m\u001b[0m\u001b[0m\n\u001b[0m\u001b[1;32m    221\u001b[0m                 \u001b[0menergy\u001b[0m \u001b[0;34m=\u001b[0m \u001b[0msum\u001b[0m\u001b[0;34m(\u001b[0m\u001b[0mdiff\u001b[0m \u001b[0;34m*\u001b[0m \u001b[0mtdiff\u001b[0m\u001b[0;34m,\u001b[0m \u001b[0maxis\u001b[0m\u001b[0;34m=\u001b[0m\u001b[0;36m0\u001b[0m\u001b[0;34m)\u001b[0m \u001b[0;34m/\u001b[0m \u001b[0;36m2.0\u001b[0m\u001b[0;34m\u001b[0m\u001b[0m\n\u001b[1;32m    222\u001b[0m                 \u001b[0mresult\u001b[0m\u001b[0;34m[\u001b[0m\u001b[0mi\u001b[0m\u001b[0;34m]\u001b[0m \u001b[0;34m=\u001b[0m \u001b[0msum\u001b[0m\u001b[0;34m(\u001b[0m\u001b[0mexp\u001b[0m\u001b[0;34m(\u001b[0m\u001b[0;34m-\u001b[0m\u001b[0menergy\u001b[0m\u001b[0;34m)\u001b[0m\u001b[0;34m,\u001b[0m \u001b[0maxis\u001b[0m\u001b[0;34m=\u001b[0m\u001b[0;36m0\u001b[0m\u001b[0;34m)\u001b[0m\u001b[0;34m\u001b[0m\u001b[0m\n",
      "\u001b[0;31mKeyboardInterrupt\u001b[0m: "
     ]
    }
   ],
   "source": [
    "df_loan_app_num = df"
   ]
  },
  {
   "cell_type": "code",
   "execution_count": 73,
   "metadata": {
    "collapsed": true
   },
   "outputs": [],
   "source": []
  },
  {
   "cell_type": "code",
   "execution_count": 82,
   "metadata": {},
   "outputs": [
    {
     "data": {
      "text/plain": [
       "'01/09/2012'"
      ]
     },
     "execution_count": 82,
     "metadata": {},
     "output_type": "execute_result"
    }
   ],
   "source": []
  },
  {
   "cell_type": "markdown",
   "metadata": {
    "heading_collapsed": true
   },
   "source": [
    "### Check out how many members are in common between 2007-2015 and 2016 Q1"
   ]
  },
  {
   "cell_type": "code",
   "execution_count": 46,
   "metadata": {
    "collapsed": true,
    "hidden": true
   },
   "outputs": [],
   "source": [
    "df_2016_q1 = pd.read_csv('../data/LoanStats_2016Q1.csv',low_memory=False)"
   ]
  },
  {
   "cell_type": "code",
   "execution_count": 47,
   "metadata": {
    "hidden": true
   },
   "outputs": [
    {
     "data": {
      "text/plain": [
       "Index(['Notes offered by Prospectus (https://www.lendingclub.com/info/prospectus.action)'], dtype='object')"
      ]
     },
     "execution_count": 47,
     "metadata": {},
     "output_type": "execute_result"
    }
   ],
   "source": []
  },
  {
   "cell_type": "code",
   "execution_count": null,
   "metadata": {
    "collapsed": true,
    "hidden": true
   },
   "outputs": [],
   "source": [
    "df_2016_q1[df_2016_q1['']]"
   ]
  },
  {
   "cell_type": "code",
   "execution_count": 2,
   "metadata": {
    "hidden": true
   },
   "outputs": [
    {
     "name": "stderr",
     "output_type": "stream",
     "text": [
      "/home/vijay/tools/miniconda3/envs/deep-learner/lib/python3.5/site-packages/IPython/core/interactiveshell.py:2717: DtypeWarning: Columns (0,18,46,54,111,122,123,124,127,128,129,132) have mixed types. Specify dtype option on import or set low_memory=False.\n",
      "  interactivity=interactivity, compiler=compiler, result=result)\n"
     ]
    }
   ],
   "source": []
  },
  {
   "cell_type": "code",
   "execution_count": 12,
   "metadata": {
    "hidden": true
   },
   "outputs": [
    {
     "data": {
      "text/plain": [
       "Index(['acc_now_delinq', 'acc_open_past_24mths', 'addr_state', 'all_util',\n",
       "       'annual_inc', 'annual_inc_joint', 'application_type', 'avg_cur_bal',\n",
       "       'bc_open_to_buy', 'bc_util',\n",
       "       ...\n",
       "       'total_il_high_credit_limit', 'total_pymnt', 'total_pymnt_inv',\n",
       "       'total_rec_int', 'total_rec_late_fee', 'total_rec_prncp',\n",
       "       'total_rev_hi_lim', 'verification_status', 'verification_status_joint',\n",
       "       'zip_code'],\n",
       "      dtype='object', length=136)"
      ]
     },
     "execution_count": 12,
     "metadata": {},
     "output_type": "execute_result"
    }
   ],
   "source": []
  },
  {
   "cell_type": "code",
   "execution_count": 13,
   "metadata": {
    "hidden": true
   },
   "outputs": [
    {
     "name": "stdout",
     "output_type": "stream",
     "text": [
      "<class 'pandas.core.frame.DataFrame'>\n",
      "RangeIndex: 1524098 entries, 0 to 1524097\n",
      "Data columns (total 136 columns):\n",
      "id                                            21 non-null object\n",
      "member_id                                     0 non-null float64\n",
      "loan_amnt                                     1524077 non-null float64\n",
      "funded_amnt                                   1524077 non-null float64\n",
      "funded_amnt_inv                               1524077 non-null float64\n",
      "term                                          1524077 non-null object\n",
      "int_rate                                      1524077 non-null float64\n",
      "installment                                   1524077 non-null float64\n",
      "grade                                         1524077 non-null object\n",
      "sub_grade                                     1524077 non-null object\n",
      "emp_title                                     1430443 non-null object\n",
      "emp_length                                    1524077 non-null object\n",
      "home_ownership                                1524077 non-null object\n",
      "annual_inc                                    1524073 non-null float64\n",
      "verification_status                           1524077 non-null object\n",
      "issue_d                                       1524077 non-null object\n",
      "loan_status                                   1524077 non-null object\n",
      "pymnt_plan                                    1524077 non-null object\n",
      "desc                                          126068 non-null object\n",
      "purpose                                       1524077 non-null object\n",
      "title                                         1500753 non-null object\n",
      "zip_code                                      1524076 non-null object\n",
      "addr_state                                    1524077 non-null object\n",
      "dti                                           1524077 non-null float64\n",
      "delinq_2yrs                                   1524048 non-null float64\n",
      "earliest_cr_line                              1524048 non-null object\n",
      "inq_last_6mths                                1524047 non-null float64\n",
      "mths_since_last_delinq                        767495 non-null float64\n",
      "mths_since_last_record                        259405 non-null float64\n",
      "open_acc                                      1524048 non-null float64\n",
      "pub_rec                                       1524048 non-null float64\n",
      "revol_bal                                     1524077 non-null float64\n",
      "revol_util                                    1523185 non-null float64\n",
      "total_acc                                     1524048 non-null float64\n",
      "initial_list_status                           1524077 non-null object\n",
      "out_prncp                                     1524077 non-null float64\n",
      "out_prncp_inv                                 1524077 non-null float64\n",
      "total_pymnt                                   1524077 non-null float64\n",
      "total_pymnt_inv                               1524077 non-null float64\n",
      "total_rec_prncp                               1524077 non-null float64\n",
      "total_rec_int                                 1524077 non-null float64\n",
      "total_rec_late_fee                            1524077 non-null float64\n",
      "recoveries                                    1524077 non-null float64\n",
      "collection_recovery_fee                       1524077 non-null float64\n",
      "last_pymnt_d                                  1514062 non-null object\n",
      "last_pymnt_amnt                               1524077 non-null float64\n",
      "next_pymnt_d                                  860907 non-null object\n",
      "last_credit_pull_d                            1524009 non-null object\n",
      "collections_12_mths_ex_med                    1523932 non-null float64\n",
      "mths_since_last_major_derog                   403576 non-null float64\n",
      "policy_code                                   1524077 non-null float64\n",
      "application_type                              1524077 non-null object\n",
      "annual_inc_joint                              20520 non-null float64\n",
      "dti_joint                                     20516 non-null float64\n",
      "verification_status_joint                     20520 non-null object\n",
      "acc_now_delinq                                1524048 non-null float64\n",
      "tot_coll_amt                                  1453801 non-null float64\n",
      "tot_cur_bal                                   1453801 non-null float64\n",
      "open_acc_6m                                   657947 non-null float64\n",
      "open_il_6m                                    657948 non-null float64\n",
      "open_il_12m                                   657948 non-null float64\n",
      "open_il_24m                                   657948 non-null float64\n",
      "mths_since_rcnt_il                            640441 non-null float64\n",
      "total_bal_il                                  657948 non-null float64\n",
      "il_util                                       571467 non-null float64\n",
      "open_rv_12m                                   657948 non-null float64\n",
      "open_rv_24m                                   657948 non-null float64\n",
      "max_bal_bc                                    657948 non-null float64\n",
      "all_util                                      657909 non-null float64\n",
      "total_rev_hi_lim                              1453801 non-null float64\n",
      "inq_fi                                        657948 non-null float64\n",
      "total_cu_tl                                   657947 non-null float64\n",
      "inq_last_12m                                  657947 non-null float64\n",
      "acc_open_past_24mths                          1474047 non-null float64\n",
      "avg_cur_bal                                   1453787 non-null float64\n",
      "bc_open_to_buy                                1459346 non-null float64\n",
      "bc_util                                       1458538 non-null float64\n",
      "chargeoff_within_12_mths                      1523932 non-null float64\n",
      "delinq_amnt                                   1524048 non-null float64\n",
      "mo_sin_old_il_acct                            1411294 non-null float64\n",
      "mo_sin_old_rev_tl_op                          1453800 non-null float64\n",
      "mo_sin_rcnt_rev_tl_op                         1453800 non-null float64\n",
      "mo_sin_rcnt_tl                                1453801 non-null float64\n",
      "mort_acc                                      1474047 non-null float64\n",
      "mths_since_recent_bc                          1460268 non-null float64\n",
      "mths_since_recent_bc_dlq                      368014 non-null float64\n",
      "mths_since_recent_inq                         1318637 non-null float64\n",
      "mths_since_recent_revol_delinq                520064 non-null float64\n",
      "num_accts_ever_120_pd                         1453801 non-null float64\n",
      "num_actv_bc_tl                                1453801 non-null float64\n",
      "num_actv_rev_tl                               1453801 non-null float64\n",
      "num_bc_sats                                   1465487 non-null float64\n",
      "num_bc_tl                                     1453801 non-null float64\n",
      "num_il_tl                                     1453801 non-null float64\n",
      "num_op_rev_tl                                 1453801 non-null float64\n",
      "num_rev_accts                                 1453800 non-null float64\n",
      "num_rev_tl_bal_gt_0                           1453801 non-null float64\n",
      "num_sats                                      1465487 non-null float64\n",
      "num_tl_120dpd_2m                              1395094 non-null float64\n",
      "num_tl_30dpd                                  1453801 non-null float64\n",
      "num_tl_90g_dpd_24m                            1453801 non-null float64\n",
      "num_tl_op_past_12m                            1453801 non-null float64\n",
      "pct_tl_nvr_dlq                                1453648 non-null float64\n",
      "percent_bc_gt_75                              1458920 non-null float64\n",
      "pub_rec_bankruptcies                          1522712 non-null float64\n",
      "tax_liens                                     1523972 non-null float64\n",
      "tot_hi_cred_lim                               1453801 non-null float64\n",
      "total_bal_ex_mort                             1474047 non-null float64\n",
      "total_bc_limit                                1474047 non-null float64\n",
      "total_il_high_credit_limit                    1453801 non-null float64\n",
      "revol_bal_joint                               7831 non-null float64\n",
      "sec_app_earliest_cr_line                      7831 non-null object\n",
      "sec_app_inq_last_6mths                        7831 non-null float64\n",
      "sec_app_mort_acc                              7831 non-null float64\n",
      "sec_app_open_acc                              7831 non-null float64\n",
      "sec_app_revol_util                            7748 non-null float64\n",
      "sec_app_open_il_6m                            7831 non-null float64\n",
      "sec_app_num_rev_accts                         7831 non-null float64\n",
      "sec_app_chargeoff_within_12_mths              7831 non-null float64\n",
      "sec_app_collections_12_mths_ex_med            7831 non-null float64\n",
      "sec_app_mths_since_last_major_derog           2690 non-null float64\n",
      "hardship_flag                                 1524077 non-null object\n",
      "hardship_type                                 1061 non-null object\n",
      "hardship_reason                               1061 non-null object\n",
      "hardship_status                               1061 non-null object\n",
      "deferral_term                                 1061 non-null float64\n",
      "hardship_amount                               1061 non-null float64\n",
      "hardship_start_date                           1061 non-null object\n",
      "hardship_end_date                             1061 non-null object\n",
      "payment_plan_start_date                       1061 non-null object\n",
      "hardship_length                               1061 non-null float64\n",
      "hardship_dpd                                  1061 non-null float64\n",
      "hardship_loan_status                          1061 non-null object\n",
      "orig_projected_additional_accrued_interest    900 non-null float64\n",
      "hardship_payoff_balance_amount                1061 non-null float64\n",
      "hardship_last_payment_amount                  1061 non-null float64\n",
      "dtypes: float64(104), object(32)\n",
      "memory usage: 1.5+ GB\n",
      "None\n"
     ]
    }
   ],
   "source": []
  },
  {
   "cell_type": "code",
   "execution_count": null,
   "metadata": {
    "collapsed": true,
    "hidden": true
   },
   "outputs": [],
   "source": []
  }
 ],
 "metadata": {
  "kernelspec": {
   "display_name": "Python 3",
   "language": "python",
   "name": "python3"
  },
  "language_info": {
   "codemirror_mode": {
    "name": "ipython",
    "version": 3
   },
   "file_extension": ".py",
   "mimetype": "text/x-python",
   "name": "python",
   "nbconvert_exporter": "python",
   "pygments_lexer": "ipython3",
   "version": "3.6.1"
  }
 },
 "nbformat": 4,
 "nbformat_minor": 2
}
