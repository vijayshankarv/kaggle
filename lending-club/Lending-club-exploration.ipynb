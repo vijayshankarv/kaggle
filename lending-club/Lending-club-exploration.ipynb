{
 "cells": [
  {
   "cell_type": "markdown",
   "metadata": {},
   "source": [
    "# Analysis of Lending club loan dataset"
   ]
  },
  {
   "cell_type": "code",
   "execution_count": 4,
   "metadata": {
    "collapsed": false,
    "deletable": true,
    "editable": true
   },
   "outputs": [],
   "source": [
    "import pandas as pd\n",
    "%matplotlib inline \n",
    "import matplotlib.pyplot as plt\n",
    "import numpy as np"
   ]
  },
  {
   "cell_type": "markdown",
   "metadata": {},
   "source": [
    "#### Plotting with seaborn"
   ]
  },
  {
   "cell_type": "code",
   "execution_count": 33,
   "metadata": {
    "collapsed": false
   },
   "outputs": [],
   "source": [
    "import seaborn as sns\n",
    "sns.set_style(\"white\")\n",
    "plt.rcParams[\"figure.figsize\"] = (12, 6)"
   ]
  },
  {
   "cell_type": "markdown",
   "metadata": {
    "deletable": true,
    "editable": true
   },
   "source": [
    "## Exploration of the data"
   ]
  },
  {
   "cell_type": "markdown",
   "metadata": {
    "deletable": true,
    "editable": true
   },
   "source": [
    "### Data dictionary "
   ]
  },
  {
   "cell_type": "code",
   "execution_count": 10,
   "metadata": {
    "collapsed": false,
    "deletable": true,
    "editable": true
   },
   "outputs": [],
   "source": [
    "df_dict = pd.read_excel('../data/LCDataDictionary.xlsx')"
   ]
  },
  {
   "cell_type": "code",
   "execution_count": 12,
   "metadata": {
    "collapsed": false,
    "deletable": true,
    "editable": true
   },
   "outputs": [
    {
     "data": {
      "text/plain": [
       "(80, 2)"
      ]
     },
     "execution_count": 12,
     "metadata": {},
     "output_type": "execute_result"
    }
   ],
   "source": [
    "df_dict.shape"
   ]
  },
  {
   "cell_type": "markdown",
   "metadata": {},
   "source": [
    "#### Set formatting options for pandas"
   ]
  },
  {
   "cell_type": "code",
   "execution_count": 22,
   "metadata": {
    "collapsed": true
   },
   "outputs": [],
   "source": [
    "pd.set_option('display.max_colwidth', -1)"
   ]
  },
  {
   "cell_type": "code",
   "execution_count": 52,
   "metadata": {
    "collapsed": false
   },
   "outputs": [],
   "source": [
    "pd.options.display.max_rows = 100\n",
    "pd.set_option('precision', 5)"
   ]
  },
  {
   "cell_type": "markdown",
   "metadata": {},
   "source": [
    "#### What's in the data?"
   ]
  },
  {
   "cell_type": "code",
   "execution_count": 14,
   "metadata": {
    "collapsed": false,
    "deletable": true,
    "editable": true,
    "scrolled": false
   },
   "outputs": [
    {
     "data": {
      "text/html": [
       "<div>\n",
       "<table border=\"1\" class=\"dataframe\">\n",
       "  <thead>\n",
       "    <tr style=\"text-align: right;\">\n",
       "      <th></th>\n",
       "      <th>LoanStatNew</th>\n",
       "      <th>Description</th>\n",
       "    </tr>\n",
       "  </thead>\n",
       "  <tbody>\n",
       "    <tr>\n",
       "      <th>0</th>\n",
       "      <td>addr_state</td>\n",
       "      <td>The state provided by the borrower in the loan application</td>\n",
       "    </tr>\n",
       "    <tr>\n",
       "      <th>1</th>\n",
       "      <td>annual_inc</td>\n",
       "      <td>The self-reported annual income provided by the borrower during registration.</td>\n",
       "    </tr>\n",
       "    <tr>\n",
       "      <th>2</th>\n",
       "      <td>annual_inc_joint</td>\n",
       "      <td>The combined self-reported annual income provided by the co-borrowers during registration</td>\n",
       "    </tr>\n",
       "    <tr>\n",
       "      <th>3</th>\n",
       "      <td>application_type</td>\n",
       "      <td>Indicates whether the loan is an individual application or a joint application with two co-borrowers</td>\n",
       "    </tr>\n",
       "    <tr>\n",
       "      <th>4</th>\n",
       "      <td>collection_recovery_fee</td>\n",
       "      <td>post charge off collection fee</td>\n",
       "    </tr>\n",
       "    <tr>\n",
       "      <th>5</th>\n",
       "      <td>collections_12_mths_ex_med</td>\n",
       "      <td>Number of collections in 12 months excluding medical collections</td>\n",
       "    </tr>\n",
       "    <tr>\n",
       "      <th>6</th>\n",
       "      <td>delinq_2yrs</td>\n",
       "      <td>The number of 30+ days past-due incidences of delinquency in the borrower's credit file for the past 2 years</td>\n",
       "    </tr>\n",
       "    <tr>\n",
       "      <th>7</th>\n",
       "      <td>desc</td>\n",
       "      <td>Loan description provided by the borrower</td>\n",
       "    </tr>\n",
       "    <tr>\n",
       "      <th>8</th>\n",
       "      <td>dti</td>\n",
       "      <td>A ratio calculated using the borrower’s total monthly debt payments on the total debt obligations, excluding mortgage and the requested LC loan, divided by the borrower’s self-reported monthly income.</td>\n",
       "    </tr>\n",
       "    <tr>\n",
       "      <th>9</th>\n",
       "      <td>dti_joint</td>\n",
       "      <td>A ratio calculated using the co-borrowers' total monthly payments on the total debt obligations, excluding mortgages and the requested LC loan, divided by the co-borrowers' combined self-reported monthly income</td>\n",
       "    </tr>\n",
       "    <tr>\n",
       "      <th>10</th>\n",
       "      <td>earliest_cr_line</td>\n",
       "      <td>The month the borrower's earliest reported credit line was opened</td>\n",
       "    </tr>\n",
       "    <tr>\n",
       "      <th>11</th>\n",
       "      <td>emp_length</td>\n",
       "      <td>Employment length in years. Possible values are between 0 and 10 where 0 means less than one year and 10 means ten or more years.</td>\n",
       "    </tr>\n",
       "    <tr>\n",
       "      <th>12</th>\n",
       "      <td>emp_title</td>\n",
       "      <td>The job title supplied by the Borrower when applying for the loan.*</td>\n",
       "    </tr>\n",
       "    <tr>\n",
       "      <th>13</th>\n",
       "      <td>fico_range_high</td>\n",
       "      <td>The upper boundary range the borrower’s FICO at loan origination belongs to.</td>\n",
       "    </tr>\n",
       "    <tr>\n",
       "      <th>14</th>\n",
       "      <td>fico_range_low</td>\n",
       "      <td>The lower boundary range the borrower’s FICO at loan origination belongs to.</td>\n",
       "    </tr>\n",
       "    <tr>\n",
       "      <th>15</th>\n",
       "      <td>funded_amnt</td>\n",
       "      <td>The total amount committed to that loan at that point in time.</td>\n",
       "    </tr>\n",
       "    <tr>\n",
       "      <th>16</th>\n",
       "      <td>funded_amnt_inv</td>\n",
       "      <td>The total amount committed by investors for that loan at that point in time.</td>\n",
       "    </tr>\n",
       "    <tr>\n",
       "      <th>17</th>\n",
       "      <td>grade</td>\n",
       "      <td>LC assigned loan grade</td>\n",
       "    </tr>\n",
       "    <tr>\n",
       "      <th>18</th>\n",
       "      <td>home_ownership</td>\n",
       "      <td>The home ownership status provided by the borrower during registration. Our values are: RENT, OWN, MORTGAGE, OTHER.</td>\n",
       "    </tr>\n",
       "    <tr>\n",
       "      <th>19</th>\n",
       "      <td>id</td>\n",
       "      <td>A unique LC assigned ID for the loan listing.</td>\n",
       "    </tr>\n",
       "    <tr>\n",
       "      <th>20</th>\n",
       "      <td>initial_list_status</td>\n",
       "      <td>The initial listing status of the loan. Possible values are – W, F</td>\n",
       "    </tr>\n",
       "    <tr>\n",
       "      <th>21</th>\n",
       "      <td>inq_last_6mths</td>\n",
       "      <td>The number of inquiries in past 6 months (excluding auto and mortgage inquiries)</td>\n",
       "    </tr>\n",
       "    <tr>\n",
       "      <th>22</th>\n",
       "      <td>installment</td>\n",
       "      <td>The monthly payment owed by the borrower if the loan originates.</td>\n",
       "    </tr>\n",
       "    <tr>\n",
       "      <th>23</th>\n",
       "      <td>int_rate</td>\n",
       "      <td>Interest Rate on the loan</td>\n",
       "    </tr>\n",
       "    <tr>\n",
       "      <th>24</th>\n",
       "      <td>is_inc_v</td>\n",
       "      <td>Indicates if income was verified by LC, not verified, or if the income source was verified</td>\n",
       "    </tr>\n",
       "    <tr>\n",
       "      <th>25</th>\n",
       "      <td>issue_d</td>\n",
       "      <td>The month which the loan was funded</td>\n",
       "    </tr>\n",
       "    <tr>\n",
       "      <th>26</th>\n",
       "      <td>last_credit_pull_d</td>\n",
       "      <td>The most recent month LC pulled credit for this loan</td>\n",
       "    </tr>\n",
       "    <tr>\n",
       "      <th>27</th>\n",
       "      <td>last_fico_range_high</td>\n",
       "      <td>The upper boundary range the borrower’s last FICO pulled belongs to.</td>\n",
       "    </tr>\n",
       "    <tr>\n",
       "      <th>28</th>\n",
       "      <td>last_fico_range_low</td>\n",
       "      <td>The lower boundary range the borrower’s last FICO pulled belongs to.</td>\n",
       "    </tr>\n",
       "    <tr>\n",
       "      <th>29</th>\n",
       "      <td>last_pymnt_amnt</td>\n",
       "      <td>Last total payment amount received</td>\n",
       "    </tr>\n",
       "    <tr>\n",
       "      <th>30</th>\n",
       "      <td>last_pymnt_d</td>\n",
       "      <td>Last month payment was received</td>\n",
       "    </tr>\n",
       "    <tr>\n",
       "      <th>31</th>\n",
       "      <td>loan_amnt</td>\n",
       "      <td>The listed amount of the loan applied for by the borrower. If at some point in time, the credit department reduces the loan amount, then it will be reflected in this value.</td>\n",
       "    </tr>\n",
       "    <tr>\n",
       "      <th>32</th>\n",
       "      <td>loan_status</td>\n",
       "      <td>Current status of the loan</td>\n",
       "    </tr>\n",
       "    <tr>\n",
       "      <th>33</th>\n",
       "      <td>member_id</td>\n",
       "      <td>A unique LC assigned Id for the borrower member.</td>\n",
       "    </tr>\n",
       "    <tr>\n",
       "      <th>34</th>\n",
       "      <td>mths_since_last_delinq</td>\n",
       "      <td>The number of months since the borrower's last delinquency.</td>\n",
       "    </tr>\n",
       "    <tr>\n",
       "      <th>35</th>\n",
       "      <td>mths_since_last_major_derog</td>\n",
       "      <td>Months since most recent 90-day or worse rating</td>\n",
       "    </tr>\n",
       "    <tr>\n",
       "      <th>36</th>\n",
       "      <td>mths_since_last_record</td>\n",
       "      <td>The number of months since the last public record.</td>\n",
       "    </tr>\n",
       "    <tr>\n",
       "      <th>37</th>\n",
       "      <td>next_pymnt_d</td>\n",
       "      <td>Next scheduled payment date</td>\n",
       "    </tr>\n",
       "    <tr>\n",
       "      <th>38</th>\n",
       "      <td>open_acc</td>\n",
       "      <td>The number of open credit lines in the borrower's credit file.</td>\n",
       "    </tr>\n",
       "    <tr>\n",
       "      <th>39</th>\n",
       "      <td>out_prncp</td>\n",
       "      <td>Remaining outstanding principal for total amount funded</td>\n",
       "    </tr>\n",
       "    <tr>\n",
       "      <th>40</th>\n",
       "      <td>out_prncp_inv</td>\n",
       "      <td>Remaining outstanding principal for portion of total amount funded by investors</td>\n",
       "    </tr>\n",
       "    <tr>\n",
       "      <th>41</th>\n",
       "      <td>policy_code</td>\n",
       "      <td>publicly available policy_code=1\\nnew products not publicly available policy_code=2</td>\n",
       "    </tr>\n",
       "    <tr>\n",
       "      <th>42</th>\n",
       "      <td>pub_rec</td>\n",
       "      <td>Number of derogatory public records</td>\n",
       "    </tr>\n",
       "    <tr>\n",
       "      <th>43</th>\n",
       "      <td>purpose</td>\n",
       "      <td>A category provided by the borrower for the loan request.</td>\n",
       "    </tr>\n",
       "    <tr>\n",
       "      <th>44</th>\n",
       "      <td>pymnt_plan</td>\n",
       "      <td>Indicates if a payment plan has been put in place for the loan</td>\n",
       "    </tr>\n",
       "    <tr>\n",
       "      <th>45</th>\n",
       "      <td>recoveries</td>\n",
       "      <td>post charge off gross recovery</td>\n",
       "    </tr>\n",
       "    <tr>\n",
       "      <th>46</th>\n",
       "      <td>revol_bal</td>\n",
       "      <td>Total credit revolving balance</td>\n",
       "    </tr>\n",
       "    <tr>\n",
       "      <th>47</th>\n",
       "      <td>revol_util</td>\n",
       "      <td>Revolving line utilization rate, or the amount of credit the borrower is using relative to all available revolving credit.</td>\n",
       "    </tr>\n",
       "    <tr>\n",
       "      <th>48</th>\n",
       "      <td>sub_grade</td>\n",
       "      <td>LC assigned loan subgrade</td>\n",
       "    </tr>\n",
       "    <tr>\n",
       "      <th>49</th>\n",
       "      <td>term</td>\n",
       "      <td>The number of payments on the loan. Values are in months and can be either 36 or 60.</td>\n",
       "    </tr>\n",
       "    <tr>\n",
       "      <th>50</th>\n",
       "      <td>title</td>\n",
       "      <td>The loan title provided by the borrower</td>\n",
       "    </tr>\n",
       "    <tr>\n",
       "      <th>51</th>\n",
       "      <td>total_acc</td>\n",
       "      <td>The total number of credit lines currently in the borrower's credit file</td>\n",
       "    </tr>\n",
       "    <tr>\n",
       "      <th>52</th>\n",
       "      <td>total_pymnt</td>\n",
       "      <td>Payments received to date for total amount funded</td>\n",
       "    </tr>\n",
       "    <tr>\n",
       "      <th>53</th>\n",
       "      <td>total_pymnt_inv</td>\n",
       "      <td>Payments received to date for portion of total amount funded by investors</td>\n",
       "    </tr>\n",
       "    <tr>\n",
       "      <th>54</th>\n",
       "      <td>total_rec_int</td>\n",
       "      <td>Interest received to date</td>\n",
       "    </tr>\n",
       "    <tr>\n",
       "      <th>55</th>\n",
       "      <td>total_rec_late_fee</td>\n",
       "      <td>Late fees received to date</td>\n",
       "    </tr>\n",
       "    <tr>\n",
       "      <th>56</th>\n",
       "      <td>total_rec_prncp</td>\n",
       "      <td>Principal received to date</td>\n",
       "    </tr>\n",
       "    <tr>\n",
       "      <th>57</th>\n",
       "      <td>url</td>\n",
       "      <td>URL for the LC page with listing data.</td>\n",
       "    </tr>\n",
       "    <tr>\n",
       "      <th>58</th>\n",
       "      <td>verified_status_joint</td>\n",
       "      <td>Indicates if the co-borrowers' joint income was verified by LC, not verified, or if the income source was verified</td>\n",
       "    </tr>\n",
       "    <tr>\n",
       "      <th>59</th>\n",
       "      <td>zip_code</td>\n",
       "      <td>The first 3 numbers of the zip code provided by the borrower in the loan application.</td>\n",
       "    </tr>\n",
       "    <tr>\n",
       "      <th>60</th>\n",
       "      <td>open_acc_6m</td>\n",
       "      <td>Number of open trades in last 6 months</td>\n",
       "    </tr>\n",
       "    <tr>\n",
       "      <th>61</th>\n",
       "      <td>open_il_6m</td>\n",
       "      <td>Number of currently active installment trades</td>\n",
       "    </tr>\n",
       "    <tr>\n",
       "      <th>62</th>\n",
       "      <td>open_il_12m</td>\n",
       "      <td>Number of installment accounts opened in past 12 months</td>\n",
       "    </tr>\n",
       "    <tr>\n",
       "      <th>63</th>\n",
       "      <td>open_il_24m</td>\n",
       "      <td>Number of installment accounts opened in past 24 months</td>\n",
       "    </tr>\n",
       "    <tr>\n",
       "      <th>64</th>\n",
       "      <td>mths_since_rcnt_il</td>\n",
       "      <td>Months since most recent installment accounts opened</td>\n",
       "    </tr>\n",
       "    <tr>\n",
       "      <th>65</th>\n",
       "      <td>total_bal_il</td>\n",
       "      <td>Total current balance of all installment accounts</td>\n",
       "    </tr>\n",
       "    <tr>\n",
       "      <th>66</th>\n",
       "      <td>il_util</td>\n",
       "      <td>Ratio of total current balance to high credit/credit limit on all install acct</td>\n",
       "    </tr>\n",
       "    <tr>\n",
       "      <th>67</th>\n",
       "      <td>open_rv_12m</td>\n",
       "      <td>Number of revolving trades opened in past 12 months</td>\n",
       "    </tr>\n",
       "    <tr>\n",
       "      <th>68</th>\n",
       "      <td>open_rv_24m</td>\n",
       "      <td>Number of revolving trades opened in past 24 months</td>\n",
       "    </tr>\n",
       "    <tr>\n",
       "      <th>69</th>\n",
       "      <td>max_bal_bc</td>\n",
       "      <td>Maximum current balance owed on all revolving accounts</td>\n",
       "    </tr>\n",
       "    <tr>\n",
       "      <th>70</th>\n",
       "      <td>all_util</td>\n",
       "      <td>Balance to credit limit on all trades</td>\n",
       "    </tr>\n",
       "    <tr>\n",
       "      <th>71</th>\n",
       "      <td>total_rev_hi_lim</td>\n",
       "      <td>Total revolving high credit/credit limit</td>\n",
       "    </tr>\n",
       "    <tr>\n",
       "      <th>72</th>\n",
       "      <td>inq_fi</td>\n",
       "      <td>Number of personal finance inquiries</td>\n",
       "    </tr>\n",
       "    <tr>\n",
       "      <th>73</th>\n",
       "      <td>total_cu_tl</td>\n",
       "      <td>Number of finance trades</td>\n",
       "    </tr>\n",
       "    <tr>\n",
       "      <th>74</th>\n",
       "      <td>inq_last_12m</td>\n",
       "      <td>Number of credit inquiries in past 12 months</td>\n",
       "    </tr>\n",
       "    <tr>\n",
       "      <th>75</th>\n",
       "      <td>acc_now_delinq</td>\n",
       "      <td>The number of accounts on which the borrower is now delinquent.</td>\n",
       "    </tr>\n",
       "    <tr>\n",
       "      <th>76</th>\n",
       "      <td>tot_coll_amt</td>\n",
       "      <td>Total collection amounts ever owed</td>\n",
       "    </tr>\n",
       "    <tr>\n",
       "      <th>77</th>\n",
       "      <td>tot_cur_bal</td>\n",
       "      <td>Total current balance of all accounts</td>\n",
       "    </tr>\n",
       "    <tr>\n",
       "      <th>78</th>\n",
       "      <td>NaN</td>\n",
       "      <td>NaN</td>\n",
       "    </tr>\n",
       "    <tr>\n",
       "      <th>79</th>\n",
       "      <td>NaN</td>\n",
       "      <td>* Employer Title replaces Employer Name for all loans listed after 9/23/2013</td>\n",
       "    </tr>\n",
       "  </tbody>\n",
       "</table>\n",
       "</div>"
      ],
      "text/plain": [
       "                    LoanStatNew  \\\n",
       "0   addr_state                    \n",
       "1   annual_inc                    \n",
       "2   annual_inc_joint              \n",
       "3   application_type              \n",
       "4   collection_recovery_fee       \n",
       "5   collections_12_mths_ex_med    \n",
       "6   delinq_2yrs                   \n",
       "7   desc                          \n",
       "8   dti                           \n",
       "9   dti_joint                     \n",
       "10  earliest_cr_line              \n",
       "11  emp_length                    \n",
       "12  emp_title                     \n",
       "13  fico_range_high               \n",
       "14  fico_range_low                \n",
       "15  funded_amnt                   \n",
       "16  funded_amnt_inv               \n",
       "17  grade                         \n",
       "18  home_ownership                \n",
       "19  id                            \n",
       "20  initial_list_status           \n",
       "21  inq_last_6mths                \n",
       "22  installment                   \n",
       "23  int_rate                      \n",
       "24  is_inc_v                      \n",
       "25  issue_d                       \n",
       "26  last_credit_pull_d            \n",
       "27  last_fico_range_high          \n",
       "28  last_fico_range_low           \n",
       "29  last_pymnt_amnt               \n",
       "30  last_pymnt_d                  \n",
       "31  loan_amnt                     \n",
       "32  loan_status                   \n",
       "33  member_id                     \n",
       "34  mths_since_last_delinq        \n",
       "35  mths_since_last_major_derog   \n",
       "36  mths_since_last_record        \n",
       "37  next_pymnt_d                  \n",
       "38  open_acc                      \n",
       "39  out_prncp                     \n",
       "40  out_prncp_inv                 \n",
       "41  policy_code                   \n",
       "42  pub_rec                       \n",
       "43  purpose                       \n",
       "44  pymnt_plan                    \n",
       "45  recoveries                    \n",
       "46  revol_bal                     \n",
       "47  revol_util                    \n",
       "48  sub_grade                     \n",
       "49  term                          \n",
       "50  title                         \n",
       "51  total_acc                     \n",
       "52  total_pymnt                   \n",
       "53  total_pymnt_inv               \n",
       "54  total_rec_int                 \n",
       "55  total_rec_late_fee            \n",
       "56  total_rec_prncp               \n",
       "57  url                           \n",
       "58  verified_status_joint         \n",
       "59  zip_code                      \n",
       "60  open_acc_6m                   \n",
       "61  open_il_6m                    \n",
       "62  open_il_12m                   \n",
       "63  open_il_24m                   \n",
       "64  mths_since_rcnt_il            \n",
       "65  total_bal_il                  \n",
       "66  il_util                       \n",
       "67  open_rv_12m                   \n",
       "68  open_rv_24m                   \n",
       "69  max_bal_bc                    \n",
       "70  all_util                      \n",
       "71  total_rev_hi_lim              \n",
       "72  inq_fi                        \n",
       "73  total_cu_tl                   \n",
       "74  inq_last_12m                  \n",
       "75  acc_now_delinq                \n",
       "76  tot_coll_amt                  \n",
       "77  tot_cur_bal                   \n",
       "78  NaN                           \n",
       "79  NaN                           \n",
       "\n",
       "                                                                                                                                                                                                           Description  \n",
       "0   The state provided by the borrower in the loan application                                                                                                                                                          \n",
       "1   The self-reported annual income provided by the borrower during registration.                                                                                                                                       \n",
       "2   The combined self-reported annual income provided by the co-borrowers during registration                                                                                                                           \n",
       "3   Indicates whether the loan is an individual application or a joint application with two co-borrowers                                                                                                                \n",
       "4   post charge off collection fee                                                                                                                                                                                      \n",
       "5   Number of collections in 12 months excluding medical collections                                                                                                                                                    \n",
       "6   The number of 30+ days past-due incidences of delinquency in the borrower's credit file for the past 2 years                                                                                                        \n",
       "7   Loan description provided by the borrower                                                                                                                                                                           \n",
       "8   A ratio calculated using the borrower’s total monthly debt payments on the total debt obligations, excluding mortgage and the requested LC loan, divided by the borrower’s self-reported monthly income.            \n",
       "9   A ratio calculated using the co-borrowers' total monthly payments on the total debt obligations, excluding mortgages and the requested LC loan, divided by the co-borrowers' combined self-reported monthly income  \n",
       "10  The month the borrower's earliest reported credit line was opened                                                                                                                                                   \n",
       "11  Employment length in years. Possible values are between 0 and 10 where 0 means less than one year and 10 means ten or more years.                                                                                   \n",
       "12  The job title supplied by the Borrower when applying for the loan.*                                                                                                                                                 \n",
       "13  The upper boundary range the borrower’s FICO at loan origination belongs to.                                                                                                                                        \n",
       "14  The lower boundary range the borrower’s FICO at loan origination belongs to.                                                                                                                                        \n",
       "15  The total amount committed to that loan at that point in time.                                                                                                                                                      \n",
       "16  The total amount committed by investors for that loan at that point in time.                                                                                                                                        \n",
       "17  LC assigned loan grade                                                                                                                                                                                              \n",
       "18  The home ownership status provided by the borrower during registration. Our values are: RENT, OWN, MORTGAGE, OTHER.                                                                                                 \n",
       "19  A unique LC assigned ID for the loan listing.                                                                                                                                                                       \n",
       "20  The initial listing status of the loan. Possible values are – W, F                                                                                                                                                  \n",
       "21  The number of inquiries in past 6 months (excluding auto and mortgage inquiries)                                                                                                                                    \n",
       "22  The monthly payment owed by the borrower if the loan originates.                                                                                                                                                    \n",
       "23  Interest Rate on the loan                                                                                                                                                                                           \n",
       "24  Indicates if income was verified by LC, not verified, or if the income source was verified                                                                                                                          \n",
       "25  The month which the loan was funded                                                                                                                                                                                 \n",
       "26  The most recent month LC pulled credit for this loan                                                                                                                                                                \n",
       "27  The upper boundary range the borrower’s last FICO pulled belongs to.                                                                                                                                                \n",
       "28  The lower boundary range the borrower’s last FICO pulled belongs to.                                                                                                                                                \n",
       "29  Last total payment amount received                                                                                                                                                                                  \n",
       "30  Last month payment was received                                                                                                                                                                                     \n",
       "31  The listed amount of the loan applied for by the borrower. If at some point in time, the credit department reduces the loan amount, then it will be reflected in this value.                                        \n",
       "32  Current status of the loan                                                                                                                                                                                          \n",
       "33  A unique LC assigned Id for the borrower member.                                                                                                                                                                    \n",
       "34  The number of months since the borrower's last delinquency.                                                                                                                                                         \n",
       "35  Months since most recent 90-day or worse rating                                                                                                                                                                     \n",
       "36  The number of months since the last public record.                                                                                                                                                                  \n",
       "37  Next scheduled payment date                                                                                                                                                                                         \n",
       "38  The number of open credit lines in the borrower's credit file.                                                                                                                                                      \n",
       "39  Remaining outstanding principal for total amount funded                                                                                                                                                             \n",
       "40  Remaining outstanding principal for portion of total amount funded by investors                                                                                                                                     \n",
       "41  publicly available policy_code=1\\nnew products not publicly available policy_code=2                                                                                                                                 \n",
       "42  Number of derogatory public records                                                                                                                                                                                 \n",
       "43  A category provided by the borrower for the loan request.                                                                                                                                                           \n",
       "44  Indicates if a payment plan has been put in place for the loan                                                                                                                                                      \n",
       "45  post charge off gross recovery                                                                                                                                                                                      \n",
       "46  Total credit revolving balance                                                                                                                                                                                      \n",
       "47  Revolving line utilization rate, or the amount of credit the borrower is using relative to all available revolving credit.                                                                                          \n",
       "48  LC assigned loan subgrade                                                                                                                                                                                           \n",
       "49  The number of payments on the loan. Values are in months and can be either 36 or 60.                                                                                                                                \n",
       "50  The loan title provided by the borrower                                                                                                                                                                             \n",
       "51  The total number of credit lines currently in the borrower's credit file                                                                                                                                            \n",
       "52  Payments received to date for total amount funded                                                                                                                                                                   \n",
       "53  Payments received to date for portion of total amount funded by investors                                                                                                                                           \n",
       "54  Interest received to date                                                                                                                                                                                           \n",
       "55  Late fees received to date                                                                                                                                                                                          \n",
       "56  Principal received to date                                                                                                                                                                                          \n",
       "57  URL for the LC page with listing data.                                                                                                                                                                              \n",
       "58  Indicates if the co-borrowers' joint income was verified by LC, not verified, or if the income source was verified                                                                                                  \n",
       "59  The first 3 numbers of the zip code provided by the borrower in the loan application.                                                                                                                               \n",
       "60  Number of open trades in last 6 months                                                                                                                                                                              \n",
       "61  Number of currently active installment trades                                                                                                                                                                       \n",
       "62  Number of installment accounts opened in past 12 months                                                                                                                                                             \n",
       "63  Number of installment accounts opened in past 24 months                                                                                                                                                             \n",
       "64  Months since most recent installment accounts opened                                                                                                                                                                \n",
       "65  Total current balance of all installment accounts                                                                                                                                                                   \n",
       "66  Ratio of total current balance to high credit/credit limit on all install acct                                                                                                                                      \n",
       "67  Number of revolving trades opened in past 12 months                                                                                                                                                                 \n",
       "68  Number of revolving trades opened in past 24 months                                                                                                                                                                 \n",
       "69  Maximum current balance owed on all revolving accounts                                                                                                                                                              \n",
       "70  Balance to credit limit on all trades                                                                                                                                                                               \n",
       "71  Total revolving high credit/credit limit                                                                                                                                                                            \n",
       "72  Number of personal finance inquiries                                                                                                                                                                                \n",
       "73  Number of finance trades                                                                                                                                                                                            \n",
       "74  Number of credit inquiries in past 12 months                                                                                                                                                                        \n",
       "75  The number of accounts on which the borrower is now delinquent.                                                                                                                                                     \n",
       "76  Total collection amounts ever owed                                                                                                                                                                                  \n",
       "77  Total current balance of all accounts                                                                                                                                                                               \n",
       "78  NaN                                                                                                                                                                                                                 \n",
       "79  * Employer Title replaces Employer Name for all loans listed after 9/23/2013                                                                                                                                        "
      ]
     },
     "execution_count": 14,
     "metadata": {},
     "output_type": "execute_result"
    }
   ],
   "source": [
    "df_dict"
   ]
  },
  {
   "cell_type": "markdown",
   "metadata": {},
   "source": [
    "#### Thoughts"
   ]
  },
  {
   "cell_type": "markdown",
   "metadata": {},
   "source": [
    "If I am trying to predict interest rate that the loan will be offered - then I need to be careful with only including the data that would be there at the acquisition stage. There should be no data that is date after the issue_d at the very least\n",
    "\n"
   ]
  },
  {
   "cell_type": "markdown",
   "metadata": {
    "deletable": true,
    "editable": true
   },
   "source": [
    "### Exploring the data"
   ]
  },
  {
   "cell_type": "code",
   "execution_count": 53,
   "metadata": {
    "collapsed": false,
    "deletable": true,
    "editable": true
   },
   "outputs": [],
   "source": [
    "df_loan = pd.read_csv('../data/loan.csv',low_memory=False)"
   ]
  },
  {
   "cell_type": "code",
   "execution_count": 54,
   "metadata": {
    "collapsed": false,
    "deletable": true,
    "editable": true
   },
   "outputs": [
    {
     "data": {
      "text/plain": [
       "(887379, 74)"
      ]
     },
     "execution_count": 54,
     "metadata": {},
     "output_type": "execute_result"
    }
   ],
   "source": [
    "df_loan.shape"
   ]
  },
  {
   "cell_type": "code",
   "execution_count": 55,
   "metadata": {
    "collapsed": false,
    "deletable": true,
    "editable": true
   },
   "outputs": [
    {
     "data": {
      "text/plain": [
       "Index(['acc_now_delinq', 'addr_state', 'all_util', 'annual_inc',\n",
       "       'annual_inc_joint', 'application_type', 'collection_recovery_fee',\n",
       "       'collections_12_mths_ex_med', 'delinq_2yrs', 'desc', 'dti', 'dti_joint',\n",
       "       'earliest_cr_line', 'emp_length', 'emp_title', 'funded_amnt',\n",
       "       'funded_amnt_inv', 'grade', 'home_ownership', 'id', 'il_util',\n",
       "       'initial_list_status', 'inq_fi', 'inq_last_12m', 'inq_last_6mths',\n",
       "       'installment', 'int_rate', 'issue_d', 'last_credit_pull_d',\n",
       "       'last_pymnt_amnt', 'last_pymnt_d', 'loan_amnt', 'loan_status',\n",
       "       'max_bal_bc', 'member_id', 'mths_since_last_delinq',\n",
       "       'mths_since_last_major_derog', 'mths_since_last_record',\n",
       "       'mths_since_rcnt_il', 'next_pymnt_d', 'open_acc', 'open_acc_6m',\n",
       "       'open_il_12m', 'open_il_24m', 'open_il_6m', 'open_rv_12m',\n",
       "       'open_rv_24m', 'out_prncp', 'out_prncp_inv', 'policy_code', 'pub_rec',\n",
       "       'purpose', 'pymnt_plan', 'recoveries', 'revol_bal', 'revol_util',\n",
       "       'sub_grade', 'term', 'title', 'tot_coll_amt', 'tot_cur_bal',\n",
       "       'total_acc', 'total_bal_il', 'total_cu_tl', 'total_pymnt',\n",
       "       'total_pymnt_inv', 'total_rec_int', 'total_rec_late_fee',\n",
       "       'total_rec_prncp', 'total_rev_hi_lim', 'url', 'verification_status',\n",
       "       'verification_status_joint', 'zip_code'],\n",
       "      dtype='object')"
      ]
     },
     "execution_count": 55,
     "metadata": {},
     "output_type": "execute_result"
    }
   ],
   "source": [
    "df_loan.columns.sort_values()"
   ]
  },
  {
   "cell_type": "markdown",
   "metadata": {},
   "source": [
    "#### Mismatch between data dictionary and loan file features?"
   ]
  },
  {
   "cell_type": "code",
   "execution_count": 57,
   "metadata": {
    "collapsed": false,
    "deletable": true,
    "editable": true
   },
   "outputs": [
    {
     "data": {
      "text/html": [
       "<div>\n",
       "<table border=\"1\" class=\"dataframe\">\n",
       "  <thead>\n",
       "    <tr style=\"text-align: right;\">\n",
       "      <th></th>\n",
       "      <th>LoanStatNew</th>\n",
       "      <th>Description</th>\n",
       "    </tr>\n",
       "  </thead>\n",
       "  <tbody>\n",
       "    <tr>\n",
       "      <th>13</th>\n",
       "      <td>fico_range_high</td>\n",
       "      <td>The upper boundary range the borrower’s FICO at loan origination belongs to.</td>\n",
       "    </tr>\n",
       "    <tr>\n",
       "      <th>14</th>\n",
       "      <td>fico_range_low</td>\n",
       "      <td>The lower boundary range the borrower’s FICO at loan origination belongs to.</td>\n",
       "    </tr>\n",
       "    <tr>\n",
       "      <th>24</th>\n",
       "      <td>is_inc_v</td>\n",
       "      <td>Indicates if income was verified by LC, not verified, or if the income source was verified</td>\n",
       "    </tr>\n",
       "    <tr>\n",
       "      <th>27</th>\n",
       "      <td>last_fico_range_high</td>\n",
       "      <td>The upper boundary range the borrower’s last FICO pulled belongs to.</td>\n",
       "    </tr>\n",
       "    <tr>\n",
       "      <th>28</th>\n",
       "      <td>last_fico_range_low</td>\n",
       "      <td>The lower boundary range the borrower’s last FICO pulled belongs to.</td>\n",
       "    </tr>\n",
       "    <tr>\n",
       "      <th>71</th>\n",
       "      <td>total_rev_hi_lim</td>\n",
       "      <td>Total revolving high credit/credit limit</td>\n",
       "    </tr>\n",
       "    <tr>\n",
       "      <th>78</th>\n",
       "      <td>NaN</td>\n",
       "      <td>NaN</td>\n",
       "    </tr>\n",
       "    <tr>\n",
       "      <th>79</th>\n",
       "      <td>NaN</td>\n",
       "      <td>* Employer Title replaces Employer Name for all loans listed after 9/23/2013</td>\n",
       "    </tr>\n",
       "  </tbody>\n",
       "</table>\n",
       "</div>"
      ],
      "text/plain": [
       "             LoanStatNew  \\\n",
       "13  fico_range_high        \n",
       "14  fico_range_low         \n",
       "24  is_inc_v               \n",
       "27  last_fico_range_high   \n",
       "28  last_fico_range_low    \n",
       "71  total_rev_hi_lim       \n",
       "78  NaN                    \n",
       "79  NaN                    \n",
       "\n",
       "                                                                                   Description  \n",
       "13  The upper boundary range the borrower’s FICO at loan origination belongs to.                \n",
       "14  The lower boundary range the borrower’s FICO at loan origination belongs to.                \n",
       "24  Indicates if income was verified by LC, not verified, or if the income source was verified  \n",
       "27  The upper boundary range the borrower’s last FICO pulled belongs to.                        \n",
       "28  The lower boundary range the borrower’s last FICO pulled belongs to.                        \n",
       "71  Total revolving high credit/credit limit                                                    \n",
       "78  NaN                                                                                         \n",
       "79  * Employer Title replaces Employer Name for all loans listed after 9/23/2013                "
      ]
     },
     "execution_count": 57,
     "metadata": {},
     "output_type": "execute_result"
    }
   ],
   "source": [
    "df_dict[~df_dict['LoanStatNew'].isin(df_loan.columns)]"
   ]
  },
  {
   "cell_type": "markdown",
   "metadata": {},
   "source": [
    "Verified status joint is the same as verification status joint - let's rename this field"
   ]
  },
  {
   "cell_type": "code",
   "execution_count": 56,
   "metadata": {
    "collapsed": false
   },
   "outputs": [],
   "source": [
    "df_loan.rename(index=str, columns={\"verification_status_joint\":\"verified_status_joint\",\"total_rev_hi_lim\":\"total_rev_hi_lim\"},inplace=True)"
   ]
  },
  {
   "cell_type": "markdown",
   "metadata": {},
   "source": [
    "If I am looking to predict interest rates charged, then FICO ranges is probably quite important - but let's see what can be done in the absence of FICO"
   ]
  },
  {
   "cell_type": "code",
   "execution_count": 59,
   "metadata": {
    "collapsed": false,
    "deletable": true,
    "editable": true
   },
   "outputs": [
    {
     "data": {
      "text/plain": [
       "0    Dec-2011\n",
       "1    Dec-2011\n",
       "2    Dec-2011\n",
       "3    Dec-2011\n",
       "4    Dec-2011\n",
       "Name: issue_d, dtype: object"
      ]
     },
     "execution_count": 59,
     "metadata": {},
     "output_type": "execute_result"
    }
   ],
   "source": [
    "df_loan['issue_d'].head()"
   ]
  },
  {
   "cell_type": "markdown",
   "metadata": {},
   "source": [
    "#### "
   ]
  },
  {
   "cell_type": "code",
   "execution_count": 58,
   "metadata": {
    "collapsed": false,
    "scrolled": true
   },
   "outputs": [
    {
     "data": {
      "text/plain": [
       "Oct-2015    48631\n",
       "Jul-2015    45962\n",
       "Dec-2015    44342\n",
       "Oct-2014    38782\n",
       "Nov-2015    37530\n",
       "Aug-2015    35886\n",
       "Apr-2015    35427\n",
       "Jan-2015    35107\n",
       "May-2015    31913\n",
       "Jul-2014    29306\n",
       "Sep-2015    28641\n",
       "Jun-2015    28485\n",
       "Mar-2015    25400\n",
       "Nov-2014    25054\n",
       "Feb-2015    23770\n",
       "May-2014    19099\n",
       "Apr-2014    19071\n",
       "Aug-2014    18814\n",
       "Jun-2014    17179\n",
       "Mar-2014    16513\n",
       "Jan-2014    15628\n",
       "Feb-2014    15269\n",
       "Dec-2013    15020\n",
       "Nov-2013    14676\n",
       "Oct-2013    14114\n",
       "Sep-2013    12987\n",
       "Aug-2013    12674\n",
       "Jul-2013    11910\n",
       "Jun-2013    10899\n",
       "Sep-2014    10606\n",
       "May-2013    10350\n",
       "Dec-2014    10307\n",
       "Apr-2013    9419 \n",
       "Mar-2013    8273 \n",
       "Feb-2013    7561 \n",
       "Jan-2013    6872 \n",
       "Nov-2012    6382 \n",
       "Oct-2012    6263 \n",
       "Sep-2012    6087 \n",
       "Dec-2012    6066 \n",
       "Aug-2012    5419 \n",
       "Jul-2012    4627 \n",
       "Jun-2012    3817 \n",
       "May-2012    3400 \n",
       "Apr-2012    3230 \n",
       "Mar-2012    2914 \n",
       "Jan-2012    2602 \n",
       "Feb-2012    2560 \n",
       "Dec-2011    2267 \n",
       "Nov-2011    2232 \n",
       "            ...  \n",
       "Jul-2011    1875 \n",
       "Jun-2011    1835 \n",
       "May-2011    1704 \n",
       "Apr-2011    1563 \n",
       "Mar-2011    1448 \n",
       "Jan-2011    1380 \n",
       "Dec-2010    1335 \n",
       "Feb-2011    1298 \n",
       "Oct-2010    1232 \n",
       "Nov-2010    1224 \n",
       "Jul-2010    1204 \n",
       "Sep-2010    1189 \n",
       "Aug-2010    1175 \n",
       "Jun-2010    1105 \n",
       "May-2010    989  \n",
       "Apr-2010    912  \n",
       "Mar-2010    828  \n",
       "Feb-2010    682  \n",
       "Jan-2010    662  \n",
       "Nov-2009    662  \n",
       "Dec-2009    658  \n",
       "Oct-2009    604  \n",
       "Sep-2009    507  \n",
       "Aug-2009    446  \n",
       "Jul-2009    411  \n",
       "Jun-2009    406  \n",
       "Mar-2008    402  \n",
       "May-2009    359  \n",
       "Apr-2009    333  \n",
       "Mar-2009    324  \n",
       "Feb-2008    306  \n",
       "Jan-2008    305  \n",
       "Feb-2009    302  \n",
       "Jan-2009    269  \n",
       "Apr-2008    259  \n",
       "Dec-2008    253  \n",
       "Nov-2008    209  \n",
       "Dec-2007    172  \n",
       "Jul-2008    141  \n",
       "Jun-2008    124  \n",
       "Oct-2008    122  \n",
       "May-2008    115  \n",
       "Nov-2007    112  \n",
       "Oct-2007    105  \n",
       "Aug-2008    100  \n",
       "Aug-2007    74   \n",
       "Jul-2007    63   \n",
       "Sep-2008    57   \n",
       "Sep-2007    53   \n",
       "Jun-2007    24   \n",
       "Name: issue_d, dtype: int64"
      ]
     },
     "execution_count": 58,
     "metadata": {},
     "output_type": "execute_result"
    }
   ],
   "source": [
    "df_loan['issue_d'].value_counts()"
   ]
  },
  {
   "cell_type": "code",
   "execution_count": 60,
   "metadata": {
    "collapsed": false,
    "scrolled": true
   },
   "outputs": [
    {
     "data": {
      "text/plain": [
       "Jan-2016    730574\n",
       "Dec-2015    19308 \n",
       "Nov-2015    11490 \n",
       "Oct-2015    10419 \n",
       "Sep-2015    10087 \n",
       "Jul-2015    8642  \n",
       "Aug-2015    7987  \n",
       "Jun-2015    7130  \n",
       "Apr-2015    6160  \n",
       "May-2015    5930  \n",
       "Mar-2015    5775  \n",
       "Jan-2015    5271  \n",
       "Feb-2015    5017  \n",
       "Dec-2014    3702  \n",
       "Oct-2014    3358  \n",
       "Nov-2014    3168  \n",
       "Sep-2014    2961  \n",
       "Aug-2014    2812  \n",
       "Jul-2014    2773  \n",
       "May-2014    2290  \n",
       "Jun-2014    2236  \n",
       "Mar-2014    2204  \n",
       "Apr-2014    2191  \n",
       "Feb-2014    1931  \n",
       "Jan-2014    1793  \n",
       "Feb-2013    1446  \n",
       "Nov-2013    1412  \n",
       "Dec-2013    1395  \n",
       "Oct-2013    1273  \n",
       "Sep-2013    1063  \n",
       "Aug-2013    1048  \n",
       "Mar-2013    1038  \n",
       "Jul-2013    1020  \n",
       "May-2013    997   \n",
       "Jun-2013    853   \n",
       "Apr-2013    836   \n",
       "Nov-2012    576   \n",
       "Dec-2012    576   \n",
       "Sep-2012    525   \n",
       "Oct-2012    515   \n",
       "Aug-2012    505   \n",
       "Feb-2012    420   \n",
       "Mar-2012    402   \n",
       "May-2012    388   \n",
       "Jul-2012    384   \n",
       "Jun-2012    376   \n",
       "Apr-2012    360   \n",
       "Mar-2011    335   \n",
       "Aug-2011    305   \n",
       "Jan-2012    286   \n",
       "           ...    \n",
       "Feb-2011    210   \n",
       "Jun-2011    204   \n",
       "Jul-2011    186   \n",
       "Apr-2011    185   \n",
       "Sep-2011    184   \n",
       "Jan-2011    180   \n",
       "Oct-2011    169   \n",
       "Dec-2010    159   \n",
       "Jul-2010    140   \n",
       "Nov-2010    127   \n",
       "Oct-2010    123   \n",
       "Sep-2010    121   \n",
       "Feb-2010    88    \n",
       "Apr-2010    79    \n",
       "Dec-2009    75    \n",
       "Mar-2010    74    \n",
       "Aug-2010    73    \n",
       "Jun-2010    67    \n",
       "Jan-2013    67    \n",
       "May-2010    64    \n",
       "Oct-2009    54    \n",
       "Nov-2009    53    \n",
       "Jan-2009    40    \n",
       "Jan-2010    36    \n",
       "Aug-2009    33    \n",
       "Apr-2009    25    \n",
       "Feb-2009    21    \n",
       "Jul-2009    21    \n",
       "Sep-2009    21    \n",
       "Jun-2009    20    \n",
       "Mar-2009    17    \n",
       "Aug-2007    17    \n",
       "Jun-2007    16    \n",
       "Aug-2008    15    \n",
       "May-2009    14    \n",
       "Oct-2008    13    \n",
       "May-2007    10    \n",
       "Sep-2008    9     \n",
       "Mar-2008    8     \n",
       "Dec-2008    7     \n",
       "Sep-2007    5     \n",
       "Jan-2008    4     \n",
       "Feb-2008    3     \n",
       "Oct-2007    3     \n",
       "Nov-2007    3     \n",
       "Dec-2007    3     \n",
       "Jul-2007    1     \n",
       "Jul-2008    1     \n",
       "Jun-2008    1     \n",
       "May-2008    1     \n",
       "Name: last_credit_pull_d, dtype: int64"
      ]
     },
     "execution_count": 60,
     "metadata": {},
     "output_type": "execute_result"
    }
   ],
   "source": [
    "df_loan['last_credit_pull_d'].value_counts()"
   ]
  },
  {
   "cell_type": "markdown",
   "metadata": {},
   "source": [
    "Most of the credit pulls are after the issue date - will have to drop this column"
   ]
  },
  {
   "cell_type": "markdown",
   "metadata": {},
   "source": [
    "### Helper functions for exploration "
   ]
  },
  {
   "cell_type": "code",
   "execution_count": null,
   "metadata": {
    "collapsed": true
   },
   "outputs": [],
   "source": [
    "def plot_dist(data, **kwargs):\n",
    "    \"\"\"\n",
    "    data  - a column from the dataframe\n",
    "    \n",
    "    **kwargs -- keyword arguments for seaborn plots\n",
    "    \"\"\"\n",
    "    sns.displot(data, **kwargs)\n",
    "    "
   ]
  },
  {
   "cell_type": "markdown",
   "metadata": {},
   "source": [
    "### Let's look at the various features"
   ]
  },
  {
   "cell_type": "markdown",
   "metadata": {
    "heading_collapsed": true
   },
   "source": [
    "#### Where are the loan applicants from?"
   ]
  },
  {
   "cell_type": "code",
   "execution_count": 60,
   "metadata": {
    "collapsed": false,
    "hidden": true
   },
   "outputs": [
    {
     "data": {
      "text/plain": [
       "<matplotlib.axes._subplots.AxesSubplot at 0x7fce5b2a4748>"
      ]
     },
     "execution_count": 60,
     "metadata": {},
     "output_type": "execute_result"
    },
    {
     "data": {
      "image/png": "[encoded data removed]",
      "text/plain": [
       "<matplotlib.figure.Figure at 0x7fce5b219b70>"
      ]
     },
     "metadata": {},
     "output_type": "display_data"
    }
   ],
   "source": [
    "df_loan['addr_state'].sort_values().value_counts().plot(kind='bar', figsize=(12,6))"
   ]
  },
  {
   "cell_type": "code",
   "execution_count": 47,
   "metadata": {
    "collapsed": false,
    "hidden": true
   },
   "outputs": [
    {
     "data": {
      "text/plain": [
       "count     887379\n",
       "unique    51    \n",
       "top       CA    \n",
       "freq      129517\n",
       "Name: addr_state, dtype: object"
      ]
     },
     "execution_count": 47,
     "metadata": {},
     "output_type": "execute_result"
    }
   ],
   "source": [
    "df_loan['addr_state'].describe()"
   ]
  },
  {
   "cell_type": "markdown",
   "metadata": {
    "hidden": true
   },
   "source": [
    "Mostly from California and NY, Texas, Florida and then kinda drops off. No missing values"
   ]
  },
  {
   "cell_type": "markdown",
   "metadata": {},
   "source": [
    "#### What about the utilization? "
   ]
  },
  {
   "cell_type": "code",
   "execution_count": 67,
   "metadata": {
    "collapsed": false
   },
   "outputs": [
    {
     "data": {
      "text/plain": [
       "866007"
      ]
     },
     "execution_count": 67,
     "metadata": {},
     "output_type": "execute_result"
    }
   ],
   "source": [
    "np.count_nonzero(df_loan['all_util'].isnull())"
   ]
  },
  {
   "cell_type": "code",
   "execution_count": 68,
   "metadata": {
    "collapsed": false
   },
   "outputs": [
    {
     "data": {
      "text/plain": [
       "count    21372.000000\n",
       "mean     60.831939   \n",
       "std      20.013254   \n",
       "min      0.000000    \n",
       "25%      47.700000   \n",
       "50%      61.900000   \n",
       "75%      75.200000   \n",
       "max      151.400000  \n",
       "Name: all_util, dtype: float64"
      ]
     },
     "execution_count": 68,
     "metadata": {},
     "output_type": "execute_result"
    }
   ],
   "source": [
    "df_loan['all_util'].describe()"
   ]
  },
  {
   "cell_type": "markdown",
   "metadata": {},
   "source": [
    "A lot of missing values here - only 21372 out of 887379 are available. Might need to drop this column from any modeling problems."
   ]
  },
  {
   "cell_type": "code",
   "execution_count": 36,
   "metadata": {
    "collapsed": true
   },
   "outputs": [],
   "source": [
    "sns.distplot??"
   ]
  },
  {
   "cell_type": "code",
   "execution_count": 40,
   "metadata": {
    "collapsed": false
   },
   "outputs": [
    {
     "data": {
      "text/plain": [
       "<matplotlib.axes._subplots.AxesSubplot at 0x7f05525f9710>"
      ]
     },
     "execution_count": 40,
     "metadata": {},
     "output_type": "execute_result"
    },
    {
     "data": {
      "image/png": "[encoded data removed]",
      "text/plain": [
       "<matplotlib.figure.Figure at 0x7f0577b625c0>"
      ]
     },
     "metadata": {},
     "output_type": "display_data"
    }
   ],
   "source": [
    "df_loan['all_util'].hist(bins=20)"
   ]
  },
  {
   "cell_type": "markdown",
   "metadata": {},
   "source": [
    "#### Annual income"
   ]
  },
  {
   "cell_type": "code",
   "execution_count": 61,
   "metadata": {
    "collapsed": false
   },
   "outputs": [
    {
     "data": {
      "text/plain": [
       "count    887.375k\n",
       "mean     75.028k \n",
       "std      64.698k \n",
       "min      0.000   \n",
       "25%      45.000k \n",
       "50%      65.000k \n",
       "75%      90.000k \n",
       "max      9.500M  \n",
       "Name: annual_inc, dtype: float64"
      ]
     },
     "execution_count": 61,
     "metadata": {},
     "output_type": "execute_result"
    }
   ],
   "source": [
    "df_loan['annual_inc'].describe()"
   ]
  },
  {
   "cell_type": "code",
   "execution_count": 51,
   "metadata": {
    "collapsed": false
   },
   "outputs": [
    {
     "data": {
      "text/html": [
       "<div>\n",
       "<table border=\"1\" class=\"dataframe\">\n",
       "  <thead>\n",
       "    <tr style=\"text-align: right;\">\n",
       "      <th></th>\n",
       "      <th>id</th>\n",
       "      <th>member_id</th>\n",
       "      <th>loan_amnt</th>\n",
       "      <th>funded_amnt</th>\n",
       "      <th>funded_amnt_inv</th>\n",
       "      <th>term</th>\n",
       "      <th>int_rate</th>\n",
       "      <th>installment</th>\n",
       "      <th>grade</th>\n",
       "      <th>sub_grade</th>\n",
       "      <th>...</th>\n",
       "      <th>total_bal_il</th>\n",
       "      <th>il_util</th>\n",
       "      <th>open_rv_12m</th>\n",
       "      <th>open_rv_24m</th>\n",
       "      <th>max_bal_bc</th>\n",
       "      <th>all_util</th>\n",
       "      <th>total_rev_hi_lim</th>\n",
       "      <th>inq_fi</th>\n",
       "      <th>total_cu_tl</th>\n",
       "      <th>inq_last_12m</th>\n",
       "    </tr>\n",
       "  </thead>\n",
       "  <tbody>\n",
       "    <tr>\n",
       "      <th>0</th>\n",
       "      <td>1077501</td>\n",
       "      <td>1296599</td>\n",
       "      <td>5.000k</td>\n",
       "      <td>5.000k</td>\n",
       "      <td>4.975k</td>\n",
       "      <td>36 months</td>\n",
       "      <td>10.650</td>\n",
       "      <td>162.870</td>\n",
       "      <td>B</td>\n",
       "      <td>B2</td>\n",
       "      <td>...</td>\n",
       "      <td>NaN</td>\n",
       "      <td>NaN</td>\n",
       "      <td>NaN</td>\n",
       "      <td>NaN</td>\n",
       "      <td>NaN</td>\n",
       "      <td>NaN</td>\n",
       "      <td>NaN</td>\n",
       "      <td>NaN</td>\n",
       "      <td>NaN</td>\n",
       "      <td>NaN</td>\n",
       "    </tr>\n",
       "    <tr>\n",
       "      <th>1</th>\n",
       "      <td>1077430</td>\n",
       "      <td>1314167</td>\n",
       "      <td>2.500k</td>\n",
       "      <td>2.500k</td>\n",
       "      <td>2.500k</td>\n",
       "      <td>60 months</td>\n",
       "      <td>15.270</td>\n",
       "      <td>59.830</td>\n",
       "      <td>C</td>\n",
       "      <td>C4</td>\n",
       "      <td>...</td>\n",
       "      <td>NaN</td>\n",
       "      <td>NaN</td>\n",
       "      <td>NaN</td>\n",
       "      <td>NaN</td>\n",
       "      <td>NaN</td>\n",
       "      <td>NaN</td>\n",
       "      <td>NaN</td>\n",
       "      <td>NaN</td>\n",
       "      <td>NaN</td>\n",
       "      <td>NaN</td>\n",
       "    </tr>\n",
       "    <tr>\n",
       "      <th>2</th>\n",
       "      <td>1077175</td>\n",
       "      <td>1313524</td>\n",
       "      <td>2.400k</td>\n",
       "      <td>2.400k</td>\n",
       "      <td>2.400k</td>\n",
       "      <td>36 months</td>\n",
       "      <td>15.960</td>\n",
       "      <td>84.330</td>\n",
       "      <td>C</td>\n",
       "      <td>C5</td>\n",
       "      <td>...</td>\n",
       "      <td>NaN</td>\n",
       "      <td>NaN</td>\n",
       "      <td>NaN</td>\n",
       "      <td>NaN</td>\n",
       "      <td>NaN</td>\n",
       "      <td>NaN</td>\n",
       "      <td>NaN</td>\n",
       "      <td>NaN</td>\n",
       "      <td>NaN</td>\n",
       "      <td>NaN</td>\n",
       "    </tr>\n",
       "    <tr>\n",
       "      <th>3</th>\n",
       "      <td>1076863</td>\n",
       "      <td>1277178</td>\n",
       "      <td>10.000k</td>\n",
       "      <td>10.000k</td>\n",
       "      <td>10.000k</td>\n",
       "      <td>36 months</td>\n",
       "      <td>13.490</td>\n",
       "      <td>339.310</td>\n",
       "      <td>C</td>\n",
       "      <td>C1</td>\n",
       "      <td>...</td>\n",
       "      <td>NaN</td>\n",
       "      <td>NaN</td>\n",
       "      <td>NaN</td>\n",
       "      <td>NaN</td>\n",
       "      <td>NaN</td>\n",
       "      <td>NaN</td>\n",
       "      <td>NaN</td>\n",
       "      <td>NaN</td>\n",
       "      <td>NaN</td>\n",
       "      <td>NaN</td>\n",
       "    </tr>\n",
       "    <tr>\n",
       "      <th>4</th>\n",
       "      <td>1075358</td>\n",
       "      <td>1311748</td>\n",
       "      <td>3.000k</td>\n",
       "      <td>3.000k</td>\n",
       "      <td>3.000k</td>\n",
       "      <td>60 months</td>\n",
       "      <td>12.690</td>\n",
       "      <td>67.790</td>\n",
       "      <td>B</td>\n",
       "      <td>B5</td>\n",
       "      <td>...</td>\n",
       "      <td>NaN</td>\n",
       "      <td>NaN</td>\n",
       "      <td>NaN</td>\n",
       "      <td>NaN</td>\n",
       "      <td>NaN</td>\n",
       "      <td>NaN</td>\n",
       "      <td>NaN</td>\n",
       "      <td>NaN</td>\n",
       "      <td>NaN</td>\n",
       "      <td>NaN</td>\n",
       "    </tr>\n",
       "  </tbody>\n",
       "</table>\n",
       "<p>5 rows × 74 columns</p>\n",
       "</div>"
      ],
      "text/plain": [
       "        id  member_id  loan_amnt  funded_amnt  funded_amnt_inv        term  \\\n",
       "0  1077501  1296599    5.000k     5.000k       4.975k            36 months   \n",
       "1  1077430  1314167    2.500k     2.500k       2.500k            60 months   \n",
       "2  1077175  1313524    2.400k     2.400k       2.400k            36 months   \n",
       "3  1076863  1277178    10.000k    10.000k      10.000k           36 months   \n",
       "4  1075358  1311748    3.000k     3.000k       3.000k            60 months   \n",
       "\n",
       "   int_rate  installment grade sub_grade     ...      total_bal_il il_util  \\\n",
       "0  10.650    162.870      B     B2           ...      NaN          NaN       \n",
       "1  15.270    59.830       C     C4           ...      NaN          NaN       \n",
       "2  15.960    84.330       C     C5           ...      NaN          NaN       \n",
       "3  13.490    339.310      C     C1           ...      NaN          NaN       \n",
       "4  12.690    67.790       B     B5           ...      NaN          NaN       \n",
       "\n",
       "  open_rv_12m  open_rv_24m max_bal_bc all_util total_rev_hi_lim inq_fi  \\\n",
       "0 NaN         NaN          NaN        NaN      NaN              NaN      \n",
       "1 NaN         NaN          NaN        NaN      NaN              NaN      \n",
       "2 NaN         NaN          NaN        NaN      NaN              NaN      \n",
       "3 NaN         NaN          NaN        NaN      NaN              NaN      \n",
       "4 NaN         NaN          NaN        NaN      NaN              NaN      \n",
       "\n",
       "  total_cu_tl inq_last_12m  \n",
       "0 NaN         NaN           \n",
       "1 NaN         NaN           \n",
       "2 NaN         NaN           \n",
       "3 NaN         NaN           \n",
       "4 NaN         NaN           \n",
       "\n",
       "[5 rows x 74 columns]"
      ]
     },
     "execution_count": 51,
     "metadata": {},
     "output_type": "execute_result"
    }
   ],
   "source": [
    "df_loan.head()"
   ]
  },
  {
   "cell_type": "markdown",
   "metadata": {},
   "source": [
    "Missing values?"
   ]
  },
  {
   "cell_type": "code",
   "execution_count": 28,
   "metadata": {
    "collapsed": false
   },
   "outputs": [
    {
     "data": {
      "text/plain": [
       "4"
      ]
     },
     "execution_count": 28,
     "metadata": {},
     "output_type": "execute_result"
    }
   ],
   "source": [
    "np.count_nonzero(df_loan['annual_inc'].isnull())"
   ]
  },
  {
   "cell_type": "code",
   "execution_count": 46,
   "metadata": {
    "collapsed": false
   },
   "outputs": [
    {
     "data": {
      "text/plain": [
       "<matplotlib.axes._subplots.AxesSubplot at 0x7f0553a1ada0>"
      ]
     },
     "execution_count": 46,
     "metadata": {},
     "output_type": "execute_result"
    },
    {
     "data": {
      "image/png": "[encoded data removed]",
      "text/plain": [
       "<matplotlib.figure.Figure at 0x7f0553a5f7b8>"
      ]
     },
     "metadata": {},
     "output_type": "display_data"
    }
   ],
   "source": [
    "sns.distplot(df_loan['annual_inc'].dropna(),kde=True,rug=False)"
   ]
  },
  {
   "cell_type": "markdown",
   "metadata": {
    "deletable": true,
    "editable": true,
    "heading_collapsed": true
   },
   "source": [
    "### Check out how many members are in common between 2007-2015 and 2016 Q1"
   ]
  },
  {
   "cell_type": "code",
   "execution_count": 46,
   "metadata": {
    "collapsed": true,
    "deletable": true,
    "editable": true,
    "hidden": true
   },
   "outputs": [],
   "source": [
    "df_2016_q1 = pd.read_csv('../data/LoanStats_2016Q1.csv',low_memory=False)"
   ]
  },
  {
   "cell_type": "code",
   "execution_count": 47,
   "metadata": {
    "collapsed": false,
    "deletable": true,
    "editable": true,
    "hidden": true
   },
   "outputs": [
    {
     "data": {
      "text/plain": [
       "Index(['Notes offered by Prospectus (https://www.lendingclub.com/info/prospectus.action)'], dtype='object')"
      ]
     },
     "execution_count": 47,
     "metadata": {},
     "output_type": "execute_result"
    }
   ],
   "source": []
  },
  {
   "cell_type": "code",
   "execution_count": null,
   "metadata": {
    "collapsed": true,
    "deletable": true,
    "editable": true,
    "hidden": true
   },
   "outputs": [],
   "source": [
    "df_2016_q1[df_2016_q1['']]"
   ]
  },
  {
   "cell_type": "code",
   "execution_count": 2,
   "metadata": {
    "collapsed": false,
    "hidden": true
   },
   "outputs": [
    {
     "name": "stderr",
     "output_type": "stream",
     "text": [
      "/home/vijay/tools/miniconda3/envs/deep-learner/lib/python3.5/site-packages/IPython/core/interactiveshell.py:2717: DtypeWarning: Columns (0,18,46,54,111,122,123,124,127,128,129,132) have mixed types. Specify dtype option on import or set low_memory=False.\n",
      "  interactivity=interactivity, compiler=compiler, result=result)\n"
     ]
    }
   ],
   "source": []
  },
  {
   "cell_type": "code",
   "execution_count": 12,
   "metadata": {
    "collapsed": false,
    "hidden": true
   },
   "outputs": [
    {
     "data": {
      "text/plain": [
       "Index(['acc_now_delinq', 'acc_open_past_24mths', 'addr_state', 'all_util',\n",
       "       'annual_inc', 'annual_inc_joint', 'application_type', 'avg_cur_bal',\n",
       "       'bc_open_to_buy', 'bc_util',\n",
       "       ...\n",
       "       'total_il_high_credit_limit', 'total_pymnt', 'total_pymnt_inv',\n",
       "       'total_rec_int', 'total_rec_late_fee', 'total_rec_prncp',\n",
       "       'total_rev_hi_lim', 'verification_status', 'verification_status_joint',\n",
       "       'zip_code'],\n",
       "      dtype='object', length=136)"
      ]
     },
     "execution_count": 12,
     "metadata": {},
     "output_type": "execute_result"
    }
   ],
   "source": []
  },
  {
   "cell_type": "code",
   "execution_count": 13,
   "metadata": {
    "collapsed": false,
    "hidden": true
   },
   "outputs": [
    {
     "name": "stdout",
     "output_type": "stream",
     "text": [
      "<class 'pandas.core.frame.DataFrame'>\n",
      "RangeIndex: 1524098 entries, 0 to 1524097\n",
      "Data columns (total 136 columns):\n",
      "id                                            21 non-null object\n",
      "member_id                                     0 non-null float64\n",
      "loan_amnt                                     1524077 non-null float64\n",
      "funded_amnt                                   1524077 non-null float64\n",
      "funded_amnt_inv                               1524077 non-null float64\n",
      "term                                          1524077 non-null object\n",
      "int_rate                                      1524077 non-null float64\n",
      "installment                                   1524077 non-null float64\n",
      "grade                                         1524077 non-null object\n",
      "sub_grade                                     1524077 non-null object\n",
      "emp_title                                     1430443 non-null object\n",
      "emp_length                                    1524077 non-null object\n",
      "home_ownership                                1524077 non-null object\n",
      "annual_inc                                    1524073 non-null float64\n",
      "verification_status                           1524077 non-null object\n",
      "issue_d                                       1524077 non-null object\n",
      "loan_status                                   1524077 non-null object\n",
      "pymnt_plan                                    1524077 non-null object\n",
      "desc                                          126068 non-null object\n",
      "purpose                                       1524077 non-null object\n",
      "title                                         1500753 non-null object\n",
      "zip_code                                      1524076 non-null object\n",
      "addr_state                                    1524077 non-null object\n",
      "dti                                           1524077 non-null float64\n",
      "delinq_2yrs                                   1524048 non-null float64\n",
      "earliest_cr_line                              1524048 non-null object\n",
      "inq_last_6mths                                1524047 non-null float64\n",
      "mths_since_last_delinq                        767495 non-null float64\n",
      "mths_since_last_record                        259405 non-null float64\n",
      "open_acc                                      1524048 non-null float64\n",
      "pub_rec                                       1524048 non-null float64\n",
      "revol_bal                                     1524077 non-null float64\n",
      "revol_util                                    1523185 non-null float64\n",
      "total_acc                                     1524048 non-null float64\n",
      "initial_list_status                           1524077 non-null object\n",
      "out_prncp                                     1524077 non-null float64\n",
      "out_prncp_inv                                 1524077 non-null float64\n",
      "total_pymnt                                   1524077 non-null float64\n",
      "total_pymnt_inv                               1524077 non-null float64\n",
      "total_rec_prncp                               1524077 non-null float64\n",
      "total_rec_int                                 1524077 non-null float64\n",
      "total_rec_late_fee                            1524077 non-null float64\n",
      "recoveries                                    1524077 non-null float64\n",
      "collection_recovery_fee                       1524077 non-null float64\n",
      "last_pymnt_d                                  1514062 non-null object\n",
      "last_pymnt_amnt                               1524077 non-null float64\n",
      "next_pymnt_d                                  860907 non-null object\n",
      "last_credit_pull_d                            1524009 non-null object\n",
      "collections_12_mths_ex_med                    1523932 non-null float64\n",
      "mths_since_last_major_derog                   403576 non-null float64\n",
      "policy_code                                   1524077 non-null float64\n",
      "application_type                              1524077 non-null object\n",
      "annual_inc_joint                              20520 non-null float64\n",
      "dti_joint                                     20516 non-null float64\n",
      "verification_status_joint                     20520 non-null object\n",
      "acc_now_delinq                                1524048 non-null float64\n",
      "tot_coll_amt                                  1453801 non-null float64\n",
      "tot_cur_bal                                   1453801 non-null float64\n",
      "open_acc_6m                                   657947 non-null float64\n",
      "open_il_6m                                    657948 non-null float64\n",
      "open_il_12m                                   657948 non-null float64\n",
      "open_il_24m                                   657948 non-null float64\n",
      "mths_since_rcnt_il                            640441 non-null float64\n",
      "total_bal_il                                  657948 non-null float64\n",
      "il_util                                       571467 non-null float64\n",
      "open_rv_12m                                   657948 non-null float64\n",
      "open_rv_24m                                   657948 non-null float64\n",
      "max_bal_bc                                    657948 non-null float64\n",
      "all_util                                      657909 non-null float64\n",
      "total_rev_hi_lim                              1453801 non-null float64\n",
      "inq_fi                                        657948 non-null float64\n",
      "total_cu_tl                                   657947 non-null float64\n",
      "inq_last_12m                                  657947 non-null float64\n",
      "acc_open_past_24mths                          1474047 non-null float64\n",
      "avg_cur_bal                                   1453787 non-null float64\n",
      "bc_open_to_buy                                1459346 non-null float64\n",
      "bc_util                                       1458538 non-null float64\n",
      "chargeoff_within_12_mths                      1523932 non-null float64\n",
      "delinq_amnt                                   1524048 non-null float64\n",
      "mo_sin_old_il_acct                            1411294 non-null float64\n",
      "mo_sin_old_rev_tl_op                          1453800 non-null float64\n",
      "mo_sin_rcnt_rev_tl_op                         1453800 non-null float64\n",
      "mo_sin_rcnt_tl                                1453801 non-null float64\n",
      "mort_acc                                      1474047 non-null float64\n",
      "mths_since_recent_bc                          1460268 non-null float64\n",
      "mths_since_recent_bc_dlq                      368014 non-null float64\n",
      "mths_since_recent_inq                         1318637 non-null float64\n",
      "mths_since_recent_revol_delinq                520064 non-null float64\n",
      "num_accts_ever_120_pd                         1453801 non-null float64\n",
      "num_actv_bc_tl                                1453801 non-null float64\n",
      "num_actv_rev_tl                               1453801 non-null float64\n",
      "num_bc_sats                                   1465487 non-null float64\n",
      "num_bc_tl                                     1453801 non-null float64\n",
      "num_il_tl                                     1453801 non-null float64\n",
      "num_op_rev_tl                                 1453801 non-null float64\n",
      "num_rev_accts                                 1453800 non-null float64\n",
      "num_rev_tl_bal_gt_0                           1453801 non-null float64\n",
      "num_sats                                      1465487 non-null float64\n",
      "num_tl_120dpd_2m                              1395094 non-null float64\n",
      "num_tl_30dpd                                  1453801 non-null float64\n",
      "num_tl_90g_dpd_24m                            1453801 non-null float64\n",
      "num_tl_op_past_12m                            1453801 non-null float64\n",
      "pct_tl_nvr_dlq                                1453648 non-null float64\n",
      "percent_bc_gt_75                              1458920 non-null float64\n",
      "pub_rec_bankruptcies                          1522712 non-null float64\n",
      "tax_liens                                     1523972 non-null float64\n",
      "tot_hi_cred_lim                               1453801 non-null float64\n",
      "total_bal_ex_mort                             1474047 non-null float64\n",
      "total_bc_limit                                1474047 non-null float64\n",
      "total_il_high_credit_limit                    1453801 non-null float64\n",
      "revol_bal_joint                               7831 non-null float64\n",
      "sec_app_earliest_cr_line                      7831 non-null object\n",
      "sec_app_inq_last_6mths                        7831 non-null float64\n",
      "sec_app_mort_acc                              7831 non-null float64\n",
      "sec_app_open_acc                              7831 non-null float64\n",
      "sec_app_revol_util                            7748 non-null float64\n",
      "sec_app_open_il_6m                            7831 non-null float64\n",
      "sec_app_num_rev_accts                         7831 non-null float64\n",
      "sec_app_chargeoff_within_12_mths              7831 non-null float64\n",
      "sec_app_collections_12_mths_ex_med            7831 non-null float64\n",
      "sec_app_mths_since_last_major_derog           2690 non-null float64\n",
      "hardship_flag                                 1524077 non-null object\n",
      "hardship_type                                 1061 non-null object\n",
      "hardship_reason                               1061 non-null object\n",
      "hardship_status                               1061 non-null object\n",
      "deferral_term                                 1061 non-null float64\n",
      "hardship_amount                               1061 non-null float64\n",
      "hardship_start_date                           1061 non-null object\n",
      "hardship_end_date                             1061 non-null object\n",
      "payment_plan_start_date                       1061 non-null object\n",
      "hardship_length                               1061 non-null float64\n",
      "hardship_dpd                                  1061 non-null float64\n",
      "hardship_loan_status                          1061 non-null object\n",
      "orig_projected_additional_accrued_interest    900 non-null float64\n",
      "hardship_payoff_balance_amount                1061 non-null float64\n",
      "hardship_last_payment_amount                  1061 non-null float64\n",
      "dtypes: float64(104), object(32)\n",
      "memory usage: 1.5+ GB\n",
      "None\n"
     ]
    }
   ],
   "source": []
  },
  {
   "cell_type": "code",
   "execution_count": null,
   "metadata": {
    "collapsed": true,
    "hidden": true
   },
   "outputs": [],
   "source": []
  }
 ],
 "metadata": {
  "kernelspec": {
   "display_name": "Python 3",
   "language": "python",
   "name": "python3"
  },
  "language_info": {
   "codemirror_mode": {
    "name": "ipython",
    "version": 3
   },
   "file_extension": ".py",
   "mimetype": "text/x-python",
   "name": "python",
   "nbconvert_exporter": "python",
   "pygments_lexer": "ipython3",
   "version": "3.5.3"
  }
 },
 "nbformat": 4,
 "nbformat_minor": 2
}
